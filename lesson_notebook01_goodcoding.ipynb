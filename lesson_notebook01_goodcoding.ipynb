{
 "cells": [
  {
   "cell_type": "markdown",
   "metadata": {
    "slideshow": {
     "slide_type": "slide"
    }
   },
   "source": [
    "# Reproducible Science in R and Figures (Part 1)\n",
    "\n",
    "<img src=\"https://zenodo.org/record/3332808/files/1728_TURI_Book%20sprint_5%20turing%20way_040619.jpg\" alt=\"Drawing\" style=\"display:block; margin:auto; width:30%\">\n"
   ]
  },
  {
   "cell_type": "markdown",
   "metadata": {
    "slideshow": {
     "slide_type": "subslide"
    }
   },
   "source": [
    "### Skills you will have by the end of the lesson...\n",
    "\n",
    "- Creating a data pipeline\n",
    "- Writing modular code\n",
    "- Keeping your data safe\n",
    "- Keeping your code sane\n",
    "- Code that runs on other people's computers!\n"
   ]
  },
  {
   "cell_type": "markdown",
   "metadata": {
    "slideshow": {
     "slide_type": "subslide"
    }
   },
   "source": [
    "> Images from [The Turing Way](https://the-turing-way.netlify.app/reproducible-research/reproducible-research.html)! \n",
    "\n",
    "\n",
    "<img src=\"https://github.com/the-turing-way/the-turing-way/blob/main/book/website/figures/reusable-code-garden.png?raw=true\" alt=\"Drawing\" style=\"display:block; margin:auto; width: 600px;\"/>"
   ]
  },
  {
   "cell_type": "markdown",
   "metadata": {
    "slideshow": {
     "slide_type": "slide"
    }
   },
   "source": [
    "## What is Reproducible Research?\n",
    "\n",
    "<img src=\"https://the-turing-way.netlify.app/_images/reproducibility.jpg\" alt=\"Drawing\" style=\"display:block; margin:auto; width: 500px;\"/>\n",
    "\n",
    "\n",
    "Scientific results and evidence are strengthened if those results can be replicated and confirmed by several independent researchers. \n",
    "\n",
    "What you do on your computer is a part of scientific methodology like fieldwork and labwork."
   ]
  },
  {
   "cell_type": "markdown",
   "metadata": {
    "slideshow": {
     "slide_type": "subslide"
    }
   },
   "source": [
    "<img src=\"image/img_crisis.png\" alt=\"Drawing\" style=\"display:block; margin:auto; width: 500px;\"/>\n",
    "\n",
    "*Major media outlets have reported on investigations showing that a significant percentage of scientific studies cannot be reproduced. This leads to other academics and society losing trust in scientific results.*\n",
    "https://www.nature.com/articles/533452a"
   ]
  },
  {
   "cell_type": "markdown",
   "metadata": {
    "slideshow": {
     "slide_type": "subslide"
    }
   },
   "source": [
    "### Reproducible\n",
    "\n",
    "<img src=\"image/img_fail_reproduce.png\" alt=\"Drawing\" style=\"display:block; margin:auto; width: 400px;\"/>\n",
    "\n",
    "\n",
    " - Authors provide all the necessary data and the computer code to run the analysis again, re-creating the results."
   ]
  },
  {
   "cell_type": "markdown",
   "metadata": {
    "slideshow": {
     "slide_type": "subslide"
    }
   },
   "source": [
    "### Replicable\n",
    "\n",
    "- A study that arrives at the same scientific findings as another study, collecting new data (possibly with different methods) and completing new analyses.\n",
    "\n",
    "<img src=\"https://book.the-turing-way.org/_images/reproducible-definition-grid.svg\" alt=\"Drawing\" style=\"display:block; margin:auto; width: 600px;\"/>"
   ]
  },
  {
   "cell_type": "markdown",
   "metadata": {
    "slideshow": {
     "slide_type": "slide"
    }
   },
   "source": [
    "# Why bother?\n",
    "\n",
    "### Helps YOU\n",
    "\n",
    "<img src=\"https://github.com/the-turing-way/the-turing-way/blob/main/book/website/figures/help-you-of-the-future.png?raw=true\" alt=\"Drawing\" style=\"display:block; margin:auto; width:400px;\"/>\n",
    "\n",
    "Usually the person trying to redo your work and analysis is yourself at a later date!\n"
   ]
  },
  {
   "cell_type": "markdown",
   "metadata": {
    "slideshow": {
     "slide_type": "subslide"
    }
   },
   "source": [
    "<img src=\"https://book.the-turing-way.org/_images/project-history.svg\" alt=\"Drawing\" style=\"display:block; margin:auto; width: 600px;\"/>\n",
    "\n",
    "\n",
    "A lot of time is wasted redoing analyses because you can't read or understand your own code from a few weeks or years ago, and having to redo figures because you've lost the code to generate it. \n",
    "\n",
    "It also acts as a fail safe backup for your work!"
   ]
  },
  {
   "cell_type": "markdown",
   "metadata": {
    "slideshow": {
     "slide_type": "subslide"
    }
   },
   "source": [
    "### Helps open science\n",
    "\n",
    "Open research aims to transform research by making it more reproducible, transparent, reusable, collaborative, accountable, and accessible to society. \n",
    "\n",
    "<img src=\"https://book.the-turing-way.org/_images/evolution-open-research.png\" alt=\"Drawing\" style=\"display:block; margin:auto; width: 500px;\"/>\n",
    "\n"
   ]
  },
  {
   "cell_type": "markdown",
   "metadata": {
    "slideshow": {
     "slide_type": "subslide"
    }
   },
   "source": [
    "- Publicly available: It is difficult to use and benefit from knowledge hidden behind barriers such as passwords and paywalls.\n",
    "\n",
    "- Reusable: Research outputs need to be licensed appropriately, so that prospective users know any limitations on re-use.\n",
    "\n",
    "- Transparent: With appropriate metadata to provide clear statements of how research output was produced and what it contains.\n",
    "\n",
    "<img src=\"https://raw.githubusercontent.com/the-turing-way/the-turing-way/0e5c59a66a2665b056b6f5471e4f54e02b443d95/book/website/figures/fair-principles.svg\" alt=\"Drawing\" style=\"display:block; margin:auto; width: 500px;\"/>"
   ]
  },
  {
   "cell_type": "markdown",
   "metadata": {
    "slideshow": {
     "slide_type": "subslide"
    }
   },
   "source": [
    "### Helps you publish\n",
    "<img src=\"https://www.turing.ac.uk/sites/default/files/inline-images/Culture%20shift.jpg\" alt=\"Drawing\" style=\"display:block; margin:auto; width: 500px;\"/>\n",
    "\n",
    "It is becoming more common for code release to be part of the scientific publishing and grant approval process. "
   ]
  },
  {
   "cell_type": "markdown",
   "metadata": {
    "slideshow": {
     "slide_type": "subslide"
    }
   },
   "source": [
    "### Prevents mistakes\n",
    "\n",
    "<img src=\"https://github.com/the-turing-way/the-turing-way/blob/main/book/website/figures/testing-motivation1.png?raw=true\" alt=\"Drawing\" style=\"display:block; margin:auto; width: 700px;\"/>   "
   ]
  },
  {
   "cell_type": "markdown",
   "metadata": {
    "slideshow": {
     "slide_type": "slide"
    }
   },
   "source": [
    "# Penguin Data\n",
    "\n",
    "\n",
    "This data set on Palmer penguins has nice examples all over the internet. It contains morphometric data from three species of penguin.\n",
    "\n",
    "<img src=\"https://allisonhorst.github.io/palmerpenguins/reference/figures/lter_penguins.png\" alt=\"Drawing\" style=\"display:block; margin:auto; width: 800px;\"/>"
   ]
  },
  {
   "cell_type": "markdown",
   "metadata": {
    "slideshow": {
     "slide_type": "skip"
    }
   },
   "source": []
  },
  {
   "cell_type": "markdown",
   "metadata": {
    "slideshow": {
     "slide_type": "slide"
    }
   },
   "source": [
    "# Creating a Project Folder\n",
    "\n",
    "\n",
    "One of the kindest things you can do for yourself when using a computer is to organise your files carefully. This means...\n",
    "\n",
    "### ⚠️ **DO NOT save to Desktop!**\n",
    "> - If your computer breaks, you will lose all your files on Desktop.\n",
    "\n",
    "You are given OneDrive storage from the University, you will get the benefits of having your files in the cloud, but also the ability to access them from any computer. The University will also back up your files for you. "
   ]
  },
  {
   "cell_type": "markdown",
   "metadata": {
    "slideshow": {
     "slide_type": "subslide"
    }
   },
   "source": [
    "## (01) In RStudio, press \"New Project\"\n",
    "\n",
    "<img src=\"image/directory_000.png\" alt=\"Drawing\" style=\"display:block; margin:auto; width: 300px;\"/>\n",
    "\n",
    "A pop up will appear, select \"New Directory\" then \"New Project\"\n",
    "\n",
    "<img src=\"image/directory_000a.png\" alt=\"Drawing\" style=\"display:block; margin:auto; width: 300px;\"/>\n",
    "\n",
    "<img src=\"image/directory_000b.png\" alt=\"Drawing\" style=\"display:block; margin:auto; width: 285px;\"/>"
   ]
  },
  {
   "cell_type": "markdown",
   "metadata": {
    "slideshow": {
     "slide_type": "subslide"
    }
   },
   "source": [
    "## (02) Navigate to your OneDrive and call your project \"PenguinProject\"\n",
    "\n",
    "<img src=\"image/directory_000c.png\" alt=\"Drawing\" style=\"display:block; margin:auto; width: 500px;\"/>"
   ]
  },
  {
   "cell_type": "markdown",
   "metadata": {
    "slideshow": {
     "slide_type": "subslide"
    }
   },
   "source": [
    "## (03) Your window in RStudio will now look like this:\n",
    "\n",
    "You can see your project name in the top left, and in the Files pane on the bottom right.\n",
    "\n",
    "\n",
    "<img src=\"image/directory_000d.png\" alt=\"Drawing\" style=\"display:block; margin:auto; width: 600px;\"/>"
   ]
  },
  {
   "cell_type": "markdown",
   "metadata": {
    "slideshow": {
     "slide_type": "subslide"
    }
   },
   "source": [
    "\n",
    "We now have a \".Rproj\" file in our project folder which will allow us to open this project in the future. If you click it, you will get settings for your project. \n",
    "\n",
    "We now have the top level of our project, which you can also find in Windows Explorer.\n",
    "\n",
    "<img src=\"image/directory_001.png\" alt=\"Drawing\" style=\"display:block; margin:auto; width: 500px;\"/>"
   ]
  },
  {
   "cell_type": "markdown",
   "metadata": {
    "slideshow": {
     "slide_type": "slide"
    }
   },
   "source": [
    "## (04) Create a new R script, or R Markdown file, or R Notebook file\n",
    "\n",
    "I don't mind which you choose, I will use an R Markdown file. In a future session you will learn about Quarto, which is a more powerful way to write documents.\n"
   ]
  },
  {
   "cell_type": "markdown",
   "metadata": {},
   "source": [
    "\n",
    "For now, call this \"penguin_analysis.Rmd\"\n",
    "\n",
    "<img src=\"image/img_001_newfile.png\" alt=\"Drawing\" style=\"width: 300px;\"/> <img src=\"image/img_002_newrmd.png\" alt=\"Drawing\" style=\"width: 300px;\"/>"
   ]
  },
  {
   "cell_type": "markdown",
   "metadata": {
    "slideshow": {
     "slide_type": "subslide"
    }
   },
   "source": [
    "Press Save and now you can check the files pane on the bottom right.\n",
    "\n",
    "<img src=\"image/img_003_dirInR.png\" alt=\"Drawing\" style=\"display:block; margin:auto; width: 500px;\"/>\n",
    "\n",
    "Here are all our files so far:\n",
    "\n",
    "<img src=\"image/directory_002.png\" alt=\"Drawing\" style=\"display:block; margin:auto; width: 500px;\"/>"
   ]
  },
  {
   "cell_type": "markdown",
   "metadata": {
    "slideshow": {
     "slide_type": "slide"
    }
   },
   "source": [
    "## (05) Create a subfolder for the data\n",
    "\n",
    "We will now make a new subfolder called \"data\". You can do this in RStudio using the file panel on the bottom right.\n",
    "\n",
    "<img src=\"image/directory_000e.png\" alt=\"Drawing\" style=\"display:block; margin:auto; width: 300px;\"/>\n",
    "<img src=\"image/directory_000f.png\" alt=\"Drawing\" style=\"display:block; margin:auto; width: 300px;\"/>\n",
    "\n",
    "If you prefer, you can do this within Windows Explorer, and then refresh the RStudio file panel."
   ]
  },
  {
   "cell_type": "markdown",
   "metadata": {
    "slideshow": {
     "slide_type": "subslide"
    }
   },
   "source": [
    "We now have a new subfolder. \n",
    "\n",
    "<img src=\"image/directory_003.png\" alt=\"Drawing\" style=\"display:block; margin:auto; width: 300px;\"/>"
   ]
  },
  {
   "cell_type": "markdown",
   "metadata": {
    "slideshow": {
     "slide_type": "slide"
    }
   },
   "source": [
    "## (06) Installing Libraries\n",
    "\n",
    "A library is a collection of functions that we can use in our code. We will use the `tidyverse` library, which contains many helpful functions.\n",
    "\n",
    "We need to install the library the first time we use it, this means downloading it to our computer. You can use the \"Packages\" pane on the bottom right to do this, next to the \"Files\" pane.\n",
    "\n",
    "#### ⚠️ **Do not start your code with `install.packages()`** \n",
    ">\n",
    ">We will discuss why later, but this is bad practice."
   ]
  },
  {
   "cell_type": "markdown",
   "metadata": {
    "slideshow": {
     "slide_type": "subslide"
    }
   },
   "source": [
    "<img src=\"image/img_003_packages.png\" alt=\"Drawing\" style=\"display:block; margin:auto; width: 500px;\"/>\n",
    "\n",
    "First we need \"tidyverse\" in the search bar, then click Install.\n",
    "\n",
    "<img src=\"image/img_003_install.png\" alt=\"Drawing\" style=\"display:block; margin:auto; width: 500px;\"/>"
   ]
  },
  {
   "cell_type": "markdown",
   "metadata": {
    "slideshow": {
     "slide_type": "subslide"
    }
   },
   "source": [
    "### (07) Loading Libraries\n",
    "\n",
    "After that, we need to load the library into our R session. We can do this using the `library()` function. Afterwards, you will see it in the \"Packages\" pane.\n",
    "\n",
    "<img src=\"image/img_003_library.png\" alt=\"Drawing\" style=\"display:block; margin:auto; width: 400px;\"/> <img src=\"image/img_003_tidypane.png\" alt=\"Drawing\" style=\"display:block; margin:auto; width: 400px;\"/>"
   ]
  },
  {
   "cell_type": "markdown",
   "metadata": {
    "slideshow": {
     "slide_type": "subslide"
    }
   },
   "source": [
    "### (08) Installing and Loading More Libraries\n",
    "\n",
    "For today, we will need to install and load the following libraries: \n",
    "\n",
    "<img src=\"https://m-clark.github.io/data-processing-and-visualization/img/hex_tidyverse.svg\" alt=\"Drawing\" style=\"display:block; margin:auto; width: 100px;\"/>\n",
    "\n",
    "- `tidyverse`\n",
    "- `palmerpenguins`\n",
    "- `here`\n",
    "- `janitor`"
   ]
  },
  {
   "cell_type": "markdown",
   "metadata": {
    "slideshow": {
     "slide_type": "subslide"
    }
   },
   "source": [
    "Please install and load these libraries now.\n",
    "\n",
    "\n",
    "\n",
    "<img src=\"image/img_003_more.png\" alt=\"Drawing\" style=\"display:block; margin:auto; width: 400px;\"/>"
   ]
  },
  {
   "cell_type": "markdown",
   "metadata": {
    "slideshow": {
     "slide_type": "subslide"
    }
   },
   "source": [
    "## (09) Making Sure R knows where it is\n",
    "\n",
    "When we run R code, we want it to be able to read and write to the files in our project. As a result we need to tell R where this current project is. Because we used RProject, this is already inbuilt. You can check this by running the following code in your console terminal:\n",
    "\n",
    "\n",
    "`here::here()`\n",
    "\n",
    "\n",
    "This should return the path to your project.\n",
    "\n",
    "<img src=\"https://raw.githubusercontent.com/allisonhorst/stats-illustrations/master/rstats-artwork/here.png\" alt=\"Drawing\" style=\"display:block; margin:auto; width: 350px;\"/>\n",
    "\n"
   ]
  },
  {
   "cell_type": "markdown",
   "metadata": {
    "slideshow": {
     "slide_type": "subslide"
    }
   },
   "source": [
    "### ⚠️ **Do not use `setwd()`!** It is a bad habit to get into. "
   ]
  },
  {
   "cell_type": "markdown",
   "metadata": {
    "slideshow": {
     "slide_type": "slide"
    }
   },
   "source": [
    "## (10) Loading Penguin Data\n",
    "\n",
    "We will now load the penguin data from the `palmerpenguins` library. You may be used to loading functions from libraries but we can also get data too. \n",
    "\n",
    "<img src=\"https://allisonhorst.github.io/palmerpenguins/reference/figures/culmen_depth.png\" alt=\"Drawing\" style=\"display:block; margin:auto; width: 350px;\"/>\n",
    "\n"
   ]
  },
  {
   "cell_type": "code",
   "execution_count": 25,
   "metadata": {
    "slideshow": {
     "slide_type": "skip"
    },
    "vscode": {
     "languageId": "r"
    }
   },
   "outputs": [
    {
     "name": "stderr",
     "output_type": "stream",
     "text": [
      "Installing package into ‘/opt/homebrew/lib/R/4.4/site-library’\n",
      "(as ‘lib’ is unspecified)\n",
      "\n",
      "Installing package into ‘/opt/homebrew/lib/R/4.4/site-library’\n",
      "(as ‘lib’ is unspecified)\n",
      "\n",
      "Installing package into ‘/opt/homebrew/lib/R/4.4/site-library’\n",
      "(as ‘lib’ is unspecified)\n",
      "\n",
      "Installing package into ‘/opt/homebrew/lib/R/4.4/site-library’\n",
      "(as ‘lib’ is unspecified)\n",
      "\n"
     ]
    }
   ],
   "source": [
    "# I'm installing to a jupyter notebook instance\n",
    "install.packages(\"palmerpenguins\")\n",
    "install.packages(\"here\")\n",
    "install.packages(\"janitor\")\n",
    "install.packages(\"tidyverse\")\n"
   ]
  },
  {
   "cell_type": "code",
   "execution_count": 26,
   "metadata": {
    "slideshow": {
     "slide_type": "subslide"
    },
    "vscode": {
     "languageId": "r"
    }
   },
   "outputs": [],
   "source": [
    "library(palmerpenguins)\n",
    "library(here)\n",
    "library(janitor)\n",
    "library(tidyverse)"
   ]
  },
  {
   "cell_type": "markdown",
   "metadata": {
    "slideshow": {
     "slide_type": "subslide"
    }
   },
   "source": [
    "### There is a variable called penguins_raw...\n",
    "\n",
    "As a reminder, the `head()` function shows the first 6 rows of a data frame.\n"
   ]
  },
  {
   "cell_type": "code",
   "execution_count": 27,
   "metadata": {
    "slideshow": {
     "slide_type": "fragment"
    },
    "vscode": {
     "languageId": "r"
    }
   },
   "outputs": [
    {
     "data": {
      "text/html": [
       "<table class=\"dataframe\">\n",
       "<caption>A tibble: 6 × 17</caption>\n",
       "<thead>\n",
       "\t<tr><th scope=col>studyName</th><th scope=col>Sample Number</th><th scope=col>Species</th><th scope=col>Region</th><th scope=col>Island</th><th scope=col>Stage</th><th scope=col>Individual ID</th><th scope=col>Clutch Completion</th><th scope=col>Date Egg</th><th scope=col>Culmen Length (mm)</th><th scope=col>Culmen Depth (mm)</th><th scope=col>Flipper Length (mm)</th><th scope=col>Body Mass (g)</th><th scope=col>Sex</th><th scope=col>Delta 15 N (o/oo)</th><th scope=col>Delta 13 C (o/oo)</th><th scope=col>Comments</th></tr>\n",
       "\t<tr><th scope=col>&lt;chr&gt;</th><th scope=col>&lt;dbl&gt;</th><th scope=col>&lt;chr&gt;</th><th scope=col>&lt;chr&gt;</th><th scope=col>&lt;chr&gt;</th><th scope=col>&lt;chr&gt;</th><th scope=col>&lt;chr&gt;</th><th scope=col>&lt;chr&gt;</th><th scope=col>&lt;date&gt;</th><th scope=col>&lt;dbl&gt;</th><th scope=col>&lt;dbl&gt;</th><th scope=col>&lt;dbl&gt;</th><th scope=col>&lt;dbl&gt;</th><th scope=col>&lt;chr&gt;</th><th scope=col>&lt;dbl&gt;</th><th scope=col>&lt;dbl&gt;</th><th scope=col>&lt;chr&gt;</th></tr>\n",
       "</thead>\n",
       "<tbody>\n",
       "\t<tr><td>PAL0708</td><td>1</td><td>Adelie Penguin (Pygoscelis adeliae)</td><td>Anvers</td><td>Torgersen</td><td>Adult, 1 Egg Stage</td><td>N1A1</td><td>Yes</td><td>2007-11-11</td><td>39.1</td><td>18.7</td><td>181</td><td>3750</td><td>MALE  </td><td>     NA</td><td>       NA</td><td>Not enough blood for isotopes.</td></tr>\n",
       "\t<tr><td>PAL0708</td><td>2</td><td>Adelie Penguin (Pygoscelis adeliae)</td><td>Anvers</td><td>Torgersen</td><td>Adult, 1 Egg Stage</td><td>N1A2</td><td>Yes</td><td>2007-11-11</td><td>39.5</td><td>17.4</td><td>186</td><td>3800</td><td>FEMALE</td><td>8.94956</td><td>-24.69454</td><td>NA                            </td></tr>\n",
       "\t<tr><td>PAL0708</td><td>3</td><td>Adelie Penguin (Pygoscelis adeliae)</td><td>Anvers</td><td>Torgersen</td><td>Adult, 1 Egg Stage</td><td>N2A1</td><td>Yes</td><td>2007-11-16</td><td>40.3</td><td>18.0</td><td>195</td><td>3250</td><td>FEMALE</td><td>8.36821</td><td>-25.33302</td><td>NA                            </td></tr>\n",
       "\t<tr><td>PAL0708</td><td>4</td><td>Adelie Penguin (Pygoscelis adeliae)</td><td>Anvers</td><td>Torgersen</td><td>Adult, 1 Egg Stage</td><td>N2A2</td><td>Yes</td><td>2007-11-16</td><td>  NA</td><td>  NA</td><td> NA</td><td>  NA</td><td>NA    </td><td>     NA</td><td>       NA</td><td>Adult not sampled.            </td></tr>\n",
       "\t<tr><td>PAL0708</td><td>5</td><td>Adelie Penguin (Pygoscelis adeliae)</td><td>Anvers</td><td>Torgersen</td><td>Adult, 1 Egg Stage</td><td>N3A1</td><td>Yes</td><td>2007-11-16</td><td>36.7</td><td>19.3</td><td>193</td><td>3450</td><td>FEMALE</td><td>8.76651</td><td>-25.32426</td><td>NA                            </td></tr>\n",
       "\t<tr><td>PAL0708</td><td>6</td><td>Adelie Penguin (Pygoscelis adeliae)</td><td>Anvers</td><td>Torgersen</td><td>Adult, 1 Egg Stage</td><td>N3A2</td><td>Yes</td><td>2007-11-16</td><td>39.3</td><td>20.6</td><td>190</td><td>3650</td><td>MALE  </td><td>8.66496</td><td>-25.29805</td><td>NA                            </td></tr>\n",
       "</tbody>\n",
       "</table>\n"
      ],
      "text/latex": [
       "A tibble: 6 × 17\n",
       "\\begin{tabular}{lllllllllllllllll}\n",
       " studyName & Sample Number & Species & Region & Island & Stage & Individual ID & Clutch Completion & Date Egg & Culmen Length (mm) & Culmen Depth (mm) & Flipper Length (mm) & Body Mass (g) & Sex & Delta 15 N (o/oo) & Delta 13 C (o/oo) & Comments\\\\\n",
       " <chr> & <dbl> & <chr> & <chr> & <chr> & <chr> & <chr> & <chr> & <date> & <dbl> & <dbl> & <dbl> & <dbl> & <chr> & <dbl> & <dbl> & <chr>\\\\\n",
       "\\hline\n",
       "\t PAL0708 & 1 & Adelie Penguin (Pygoscelis adeliae) & Anvers & Torgersen & Adult, 1 Egg Stage & N1A1 & Yes & 2007-11-11 & 39.1 & 18.7 & 181 & 3750 & MALE   &      NA &        NA & Not enough blood for isotopes.\\\\\n",
       "\t PAL0708 & 2 & Adelie Penguin (Pygoscelis adeliae) & Anvers & Torgersen & Adult, 1 Egg Stage & N1A2 & Yes & 2007-11-11 & 39.5 & 17.4 & 186 & 3800 & FEMALE & 8.94956 & -24.69454 & NA                            \\\\\n",
       "\t PAL0708 & 3 & Adelie Penguin (Pygoscelis adeliae) & Anvers & Torgersen & Adult, 1 Egg Stage & N2A1 & Yes & 2007-11-16 & 40.3 & 18.0 & 195 & 3250 & FEMALE & 8.36821 & -25.33302 & NA                            \\\\\n",
       "\t PAL0708 & 4 & Adelie Penguin (Pygoscelis adeliae) & Anvers & Torgersen & Adult, 1 Egg Stage & N2A2 & Yes & 2007-11-16 &   NA &   NA &  NA &   NA & NA     &      NA &        NA & Adult not sampled.            \\\\\n",
       "\t PAL0708 & 5 & Adelie Penguin (Pygoscelis adeliae) & Anvers & Torgersen & Adult, 1 Egg Stage & N3A1 & Yes & 2007-11-16 & 36.7 & 19.3 & 193 & 3450 & FEMALE & 8.76651 & -25.32426 & NA                            \\\\\n",
       "\t PAL0708 & 6 & Adelie Penguin (Pygoscelis adeliae) & Anvers & Torgersen & Adult, 1 Egg Stage & N3A2 & Yes & 2007-11-16 & 39.3 & 20.6 & 190 & 3650 & MALE   & 8.66496 & -25.29805 & NA                            \\\\\n",
       "\\end{tabular}\n"
      ],
      "text/markdown": [
       "\n",
       "A tibble: 6 × 17\n",
       "\n",
       "| studyName &lt;chr&gt; | Sample Number &lt;dbl&gt; | Species &lt;chr&gt; | Region &lt;chr&gt; | Island &lt;chr&gt; | Stage &lt;chr&gt; | Individual ID &lt;chr&gt; | Clutch Completion &lt;chr&gt; | Date Egg &lt;date&gt; | Culmen Length (mm) &lt;dbl&gt; | Culmen Depth (mm) &lt;dbl&gt; | Flipper Length (mm) &lt;dbl&gt; | Body Mass (g) &lt;dbl&gt; | Sex &lt;chr&gt; | Delta 15 N (o/oo) &lt;dbl&gt; | Delta 13 C (o/oo) &lt;dbl&gt; | Comments &lt;chr&gt; |\n",
       "|---|---|---|---|---|---|---|---|---|---|---|---|---|---|---|---|---|\n",
       "| PAL0708 | 1 | Adelie Penguin (Pygoscelis adeliae) | Anvers | Torgersen | Adult, 1 Egg Stage | N1A1 | Yes | 2007-11-11 | 39.1 | 18.7 | 181 | 3750 | MALE   |      NA |        NA | Not enough blood for isotopes. |\n",
       "| PAL0708 | 2 | Adelie Penguin (Pygoscelis adeliae) | Anvers | Torgersen | Adult, 1 Egg Stage | N1A2 | Yes | 2007-11-11 | 39.5 | 17.4 | 186 | 3800 | FEMALE | 8.94956 | -24.69454 | NA                             |\n",
       "| PAL0708 | 3 | Adelie Penguin (Pygoscelis adeliae) | Anvers | Torgersen | Adult, 1 Egg Stage | N2A1 | Yes | 2007-11-16 | 40.3 | 18.0 | 195 | 3250 | FEMALE | 8.36821 | -25.33302 | NA                             |\n",
       "| PAL0708 | 4 | Adelie Penguin (Pygoscelis adeliae) | Anvers | Torgersen | Adult, 1 Egg Stage | N2A2 | Yes | 2007-11-16 |   NA |   NA |  NA |   NA | NA     |      NA |        NA | Adult not sampled.             |\n",
       "| PAL0708 | 5 | Adelie Penguin (Pygoscelis adeliae) | Anvers | Torgersen | Adult, 1 Egg Stage | N3A1 | Yes | 2007-11-16 | 36.7 | 19.3 | 193 | 3450 | FEMALE | 8.76651 | -25.32426 | NA                             |\n",
       "| PAL0708 | 6 | Adelie Penguin (Pygoscelis adeliae) | Anvers | Torgersen | Adult, 1 Egg Stage | N3A2 | Yes | 2007-11-16 | 39.3 | 20.6 | 190 | 3650 | MALE   | 8.66496 | -25.29805 | NA                             |\n",
       "\n"
      ],
      "text/plain": [
       "  studyName Sample Number Species                             Region Island   \n",
       "1 PAL0708   1             Adelie Penguin (Pygoscelis adeliae) Anvers Torgersen\n",
       "2 PAL0708   2             Adelie Penguin (Pygoscelis adeliae) Anvers Torgersen\n",
       "3 PAL0708   3             Adelie Penguin (Pygoscelis adeliae) Anvers Torgersen\n",
       "4 PAL0708   4             Adelie Penguin (Pygoscelis adeliae) Anvers Torgersen\n",
       "5 PAL0708   5             Adelie Penguin (Pygoscelis adeliae) Anvers Torgersen\n",
       "6 PAL0708   6             Adelie Penguin (Pygoscelis adeliae) Anvers Torgersen\n",
       "  Stage              Individual ID Clutch Completion Date Egg  \n",
       "1 Adult, 1 Egg Stage N1A1          Yes               2007-11-11\n",
       "2 Adult, 1 Egg Stage N1A2          Yes               2007-11-11\n",
       "3 Adult, 1 Egg Stage N2A1          Yes               2007-11-16\n",
       "4 Adult, 1 Egg Stage N2A2          Yes               2007-11-16\n",
       "5 Adult, 1 Egg Stage N3A1          Yes               2007-11-16\n",
       "6 Adult, 1 Egg Stage N3A2          Yes               2007-11-16\n",
       "  Culmen Length (mm) Culmen Depth (mm) Flipper Length (mm) Body Mass (g) Sex   \n",
       "1 39.1               18.7              181                 3750          MALE  \n",
       "2 39.5               17.4              186                 3800          FEMALE\n",
       "3 40.3               18.0              195                 3250          FEMALE\n",
       "4   NA                 NA               NA                   NA          NA    \n",
       "5 36.7               19.3              193                 3450          FEMALE\n",
       "6 39.3               20.6              190                 3650          MALE  \n",
       "  Delta 15 N (o/oo) Delta 13 C (o/oo) Comments                      \n",
       "1      NA                  NA         Not enough blood for isotopes.\n",
       "2 8.94956           -24.69454         NA                            \n",
       "3 8.36821           -25.33302         NA                            \n",
       "4      NA                  NA         Adult not sampled.            \n",
       "5 8.76651           -25.32426         NA                            \n",
       "6 8.66496           -25.29805         NA                            "
      ]
     },
     "metadata": {},
     "output_type": "display_data"
    }
   ],
   "source": [
    "head(penguins_raw)"
   ]
  },
  {
   "cell_type": "markdown",
   "metadata": {
    "slideshow": {
     "slide_type": "subslide"
    }
   },
   "source": [
    "\n",
    "## (11) Checking Column Names\n",
    "\n",
    "One problem we can see immediately is that the column names are badly formatted. Let us take a look at them:\n"
   ]
  },
  {
   "cell_type": "code",
   "execution_count": 28,
   "metadata": {
    "slideshow": {
     "slide_type": "fragment"
    },
    "vscode": {
     "languageId": "r"
    }
   },
   "outputs": [
    {
     "data": {
      "text/html": [
       "<style>\n",
       ".list-inline {list-style: none; margin:0; padding: 0}\n",
       ".list-inline>li {display: inline-block}\n",
       ".list-inline>li:not(:last-child)::after {content: \"\\00b7\"; padding: 0 .5ex}\n",
       "</style>\n",
       "<ol class=list-inline><li>'studyName'</li><li>'Sample Number'</li><li>'Species'</li><li>'Region'</li><li>'Island'</li><li>'Stage'</li><li>'Individual ID'</li><li>'Clutch Completion'</li><li>'Date Egg'</li><li>'Culmen Length (mm)'</li><li>'Culmen Depth (mm)'</li><li>'Flipper Length (mm)'</li><li>'Body Mass (g)'</li><li>'Sex'</li><li>'Delta 15 N (o/oo)'</li><li>'Delta 13 C (o/oo)'</li><li>'Comments'</li></ol>\n"
      ],
      "text/latex": [
       "\\begin{enumerate*}\n",
       "\\item 'studyName'\n",
       "\\item 'Sample Number'\n",
       "\\item 'Species'\n",
       "\\item 'Region'\n",
       "\\item 'Island'\n",
       "\\item 'Stage'\n",
       "\\item 'Individual ID'\n",
       "\\item 'Clutch Completion'\n",
       "\\item 'Date Egg'\n",
       "\\item 'Culmen Length (mm)'\n",
       "\\item 'Culmen Depth (mm)'\n",
       "\\item 'Flipper Length (mm)'\n",
       "\\item 'Body Mass (g)'\n",
       "\\item 'Sex'\n",
       "\\item 'Delta 15 N (o/oo)'\n",
       "\\item 'Delta 13 C (o/oo)'\n",
       "\\item 'Comments'\n",
       "\\end{enumerate*}\n"
      ],
      "text/markdown": [
       "1. 'studyName'\n",
       "2. 'Sample Number'\n",
       "3. 'Species'\n",
       "4. 'Region'\n",
       "5. 'Island'\n",
       "6. 'Stage'\n",
       "7. 'Individual ID'\n",
       "8. 'Clutch Completion'\n",
       "9. 'Date Egg'\n",
       "10. 'Culmen Length (mm)'\n",
       "11. 'Culmen Depth (mm)'\n",
       "12. 'Flipper Length (mm)'\n",
       "13. 'Body Mass (g)'\n",
       "14. 'Sex'\n",
       "15. 'Delta 15 N (o/oo)'\n",
       "16. 'Delta 13 C (o/oo)'\n",
       "17. 'Comments'\n",
       "\n",
       "\n"
      ],
      "text/plain": [
       " [1] \"studyName\"           \"Sample Number\"       \"Species\"            \n",
       " [4] \"Region\"              \"Island\"              \"Stage\"              \n",
       " [7] \"Individual ID\"       \"Clutch Completion\"   \"Date Egg\"           \n",
       "[10] \"Culmen Length (mm)\"  \"Culmen Depth (mm)\"   \"Flipper Length (mm)\"\n",
       "[13] \"Body Mass (g)\"       \"Sex\"                 \"Delta 15 N (o/oo)\"  \n",
       "[16] \"Delta 13 C (o/oo)\"   \"Comments\"           "
      ]
     },
     "metadata": {},
     "output_type": "display_data"
    }
   ],
   "source": [
    "colnames(penguins_raw)"
   ]
  },
  {
   "cell_type": "markdown",
   "metadata": {
    "slideshow": {
     "slide_type": "subslide"
    }
   },
   "source": [
    "They have mixed capitals and lower case letters, there are spaces in between words which can cause lots of issues within code, and other times there are no spaces...\n",
    "\n",
    "- `studyName` is called camel case\n",
    "- `Sample Number` is called sentence case and with a space\n",
    "- `Culmen Length (mm)` has spaces and also brackets which could also cause issues. \n",
    "- `Delta 15 N (o/oo)` has spaces, brackets, and a slash!"
   ]
  },
  {
   "cell_type": "markdown",
   "metadata": {
    "slideshow": {
     "slide_type": "subslide"
    }
   },
   "source": [
    "It's maybe tempting when you see these kinds of problems to go and edit the column names in excel, as well as any other issues you see. "
   ]
  },
  {
   "cell_type": "markdown",
   "metadata": {
    "slideshow": {
     "slide_type": "fragment"
    }
   },
   "source": [
    "### ⚠️ **Never do this.**\n",
    "> Editing a file in excel is completely unreproducible, no one has any record of what you edited and can lead to mistakes being missed. "
   ]
  },
  {
   "cell_type": "markdown",
   "metadata": {
    "slideshow": {
     "slide_type": "slide"
    }
   },
   "source": [
    "## (12) Preserving our Raw Data\n",
    "\n",
    "A best practice before we do anything is to save this file as `penguins_raw.csv` and consider it \"read only\"! That means it is preserved exactly as is before we start meddling with it. \n",
    "\n",
    "<img src=\"https://book.the-turing-way.org/_images/rdm-storage.jpg\" alt=\"Drawing\" style=\"display:block; margin:auto; width: 500px;\"/>\n"
   ]
  },
  {
   "cell_type": "markdown",
   "metadata": {
    "slideshow": {
     "slide_type": "subslide"
    }
   },
   "source": [
    "And using the following command we are going to save the variable `penguins_raw` as a `.csv` file. "
   ]
  },
  {
   "cell_type": "code",
   "execution_count": 29,
   "metadata": {
    "slideshow": {
     "slide_type": "fragment"
    },
    "vscode": {
     "languageId": "r"
    }
   },
   "outputs": [],
   "source": [
    "\n",
    "write_csv(penguins_raw, here(\"data\", \"penguins_raw.csv\"))\n"
   ]
  },
  {
   "cell_type": "markdown",
   "metadata": {
    "slideshow": {
     "slide_type": "fragment"
    }
   },
   "source": [
    "We are going to use the `here` library to help us with the file path. We are telling it to use the `\\data` folder and the filename `penguins_raw.csv`. If we didn't use the `here` library, we would have to use a raw file path, which is not very reproducible."
   ]
  },
  {
   "cell_type": "markdown",
   "metadata": {
    "slideshow": {
     "slide_type": "subslide"
    }
   },
   "source": [
    "Now we have a new file in our data folder.\n",
    "\n",
    "<img src=\"image/directory_004.png\" alt=\"Drawing\" style=\"display:block; margin:auto; width: 400px;\"/>"
   ]
  },
  {
   "cell_type": "markdown",
   "metadata": {
    "slideshow": {
     "slide_type": "slide"
    }
   },
   "source": [
    "## (13) Removing Columns\n",
    "\n",
    "We can use `select` and a hyphen `-` to remove that column. "
   ]
  },
  {
   "cell_type": "code",
   "execution_count": 30,
   "metadata": {
    "slideshow": {
     "slide_type": "fragment"
    },
    "vscode": {
     "languageId": "r"
    }
   },
   "outputs": [
    {
     "data": {
      "text/html": [
       "<style>\n",
       ".list-inline {list-style: none; margin:0; padding: 0}\n",
       ".list-inline>li {display: inline-block}\n",
       ".list-inline>li:not(:last-child)::after {content: \"\\00b7\"; padding: 0 .5ex}\n",
       "</style>\n",
       "<ol class=list-inline><li>'studyName'</li><li>'Sample Number'</li><li>'Species'</li><li>'Region'</li><li>'Island'</li><li>'Stage'</li><li>'Individual ID'</li><li>'Clutch Completion'</li><li>'Date Egg'</li><li>'Culmen Length (mm)'</li><li>'Culmen Depth (mm)'</li><li>'Flipper Length (mm)'</li><li>'Body Mass (g)'</li><li>'Sex'</li><li>'Delta 15 N (o/oo)'</li><li>'Delta 13 C (o/oo)'</li></ol>\n"
      ],
      "text/latex": [
       "\\begin{enumerate*}\n",
       "\\item 'studyName'\n",
       "\\item 'Sample Number'\n",
       "\\item 'Species'\n",
       "\\item 'Region'\n",
       "\\item 'Island'\n",
       "\\item 'Stage'\n",
       "\\item 'Individual ID'\n",
       "\\item 'Clutch Completion'\n",
       "\\item 'Date Egg'\n",
       "\\item 'Culmen Length (mm)'\n",
       "\\item 'Culmen Depth (mm)'\n",
       "\\item 'Flipper Length (mm)'\n",
       "\\item 'Body Mass (g)'\n",
       "\\item 'Sex'\n",
       "\\item 'Delta 15 N (o/oo)'\n",
       "\\item 'Delta 13 C (o/oo)'\n",
       "\\end{enumerate*}\n"
      ],
      "text/markdown": [
       "1. 'studyName'\n",
       "2. 'Sample Number'\n",
       "3. 'Species'\n",
       "4. 'Region'\n",
       "5. 'Island'\n",
       "6. 'Stage'\n",
       "7. 'Individual ID'\n",
       "8. 'Clutch Completion'\n",
       "9. 'Date Egg'\n",
       "10. 'Culmen Length (mm)'\n",
       "11. 'Culmen Depth (mm)'\n",
       "12. 'Flipper Length (mm)'\n",
       "13. 'Body Mass (g)'\n",
       "14. 'Sex'\n",
       "15. 'Delta 15 N (o/oo)'\n",
       "16. 'Delta 13 C (o/oo)'\n",
       "\n",
       "\n"
      ],
      "text/plain": [
       " [1] \"studyName\"           \"Sample Number\"       \"Species\"            \n",
       " [4] \"Region\"              \"Island\"              \"Stage\"              \n",
       " [7] \"Individual ID\"       \"Clutch Completion\"   \"Date Egg\"           \n",
       "[10] \"Culmen Length (mm)\"  \"Culmen Depth (mm)\"   \"Flipper Length (mm)\"\n",
       "[13] \"Body Mass (g)\"       \"Sex\"                 \"Delta 15 N (o/oo)\"  \n",
       "[16] \"Delta 13 C (o/oo)\"  "
      ]
     },
     "metadata": {},
     "output_type": "display_data"
    }
   ],
   "source": [
    "penguins_raw <- select(penguins_raw, -Comments)\n",
    "\n",
    "colnames(penguins_raw)"
   ]
  },
  {
   "cell_type": "markdown",
   "metadata": {
    "slideshow": {
     "slide_type": "fragment"
    }
   },
   "source": [
    "You can see that the \"Comments\" column is now gone. "
   ]
  },
  {
   "cell_type": "markdown",
   "metadata": {
    "slideshow": {
     "slide_type": "subslide"
    }
   },
   "source": [
    "We can do the same for two columns at once, using the function `starts_with()`."
   ]
  },
  {
   "cell_type": "code",
   "execution_count": 31,
   "metadata": {
    "slideshow": {
     "slide_type": "fragment"
    },
    "vscode": {
     "languageId": "r"
    }
   },
   "outputs": [
    {
     "data": {
      "text/html": [
       "<style>\n",
       ".list-inline {list-style: none; margin:0; padding: 0}\n",
       ".list-inline>li {display: inline-block}\n",
       ".list-inline>li:not(:last-child)::after {content: \"\\00b7\"; padding: 0 .5ex}\n",
       "</style>\n",
       "<ol class=list-inline><li>'studyName'</li><li>'Sample Number'</li><li>'Species'</li><li>'Region'</li><li>'Island'</li><li>'Stage'</li><li>'Individual ID'</li><li>'Clutch Completion'</li><li>'Date Egg'</li><li>'Culmen Length (mm)'</li><li>'Culmen Depth (mm)'</li><li>'Flipper Length (mm)'</li><li>'Body Mass (g)'</li><li>'Sex'</li></ol>\n"
      ],
      "text/latex": [
       "\\begin{enumerate*}\n",
       "\\item 'studyName'\n",
       "\\item 'Sample Number'\n",
       "\\item 'Species'\n",
       "\\item 'Region'\n",
       "\\item 'Island'\n",
       "\\item 'Stage'\n",
       "\\item 'Individual ID'\n",
       "\\item 'Clutch Completion'\n",
       "\\item 'Date Egg'\n",
       "\\item 'Culmen Length (mm)'\n",
       "\\item 'Culmen Depth (mm)'\n",
       "\\item 'Flipper Length (mm)'\n",
       "\\item 'Body Mass (g)'\n",
       "\\item 'Sex'\n",
       "\\end{enumerate*}\n"
      ],
      "text/markdown": [
       "1. 'studyName'\n",
       "2. 'Sample Number'\n",
       "3. 'Species'\n",
       "4. 'Region'\n",
       "5. 'Island'\n",
       "6. 'Stage'\n",
       "7. 'Individual ID'\n",
       "8. 'Clutch Completion'\n",
       "9. 'Date Egg'\n",
       "10. 'Culmen Length (mm)'\n",
       "11. 'Culmen Depth (mm)'\n",
       "12. 'Flipper Length (mm)'\n",
       "13. 'Body Mass (g)'\n",
       "14. 'Sex'\n",
       "\n",
       "\n"
      ],
      "text/plain": [
       " [1] \"studyName\"           \"Sample Number\"       \"Species\"            \n",
       " [4] \"Region\"              \"Island\"              \"Stage\"              \n",
       " [7] \"Individual ID\"       \"Clutch Completion\"   \"Date Egg\"           \n",
       "[10] \"Culmen Length (mm)\"  \"Culmen Depth (mm)\"   \"Flipper Length (mm)\"\n",
       "[13] \"Body Mass (g)\"       \"Sex\"                "
      ]
     },
     "metadata": {},
     "output_type": "display_data"
    }
   ],
   "source": [
    "penguins_raw <- select(penguins_raw, -starts_with(\"Delta\"))\n",
    "colnames(penguins_raw)\n"
   ]
  },
  {
   "cell_type": "markdown",
   "metadata": {
    "slideshow": {
     "slide_type": "subslide"
    }
   },
   "source": [
    "## ⚠️ **This code is bad practice.**\n",
    "\n",
    "We are overwriting the original data frame, and then overwriting it again. If I run it twice you will get an error. \n",
    "\n",
    "This is our first mistake. However, we have saved a safe copy of the original data frame as `penguins_raw.csv` in our data folder. We can load it again now. "
   ]
  },
  {
   "cell_type": "code",
   "execution_count": 33,
   "metadata": {
    "slideshow": {
     "slide_type": "fragment"
    },
    "vscode": {
     "languageId": "r"
    }
   },
   "outputs": [
    {
     "data": {
      "text/html": [
       "<style>\n",
       ".list-inline {list-style: none; margin:0; padding: 0}\n",
       ".list-inline>li {display: inline-block}\n",
       ".list-inline>li:not(:last-child)::after {content: \"\\00b7\"; padding: 0 .5ex}\n",
       "</style>\n",
       "<ol class=list-inline><li>'studyName'</li><li>'Sample Number'</li><li>'Species'</li><li>'Region'</li><li>'Island'</li><li>'Stage'</li><li>'Individual ID'</li><li>'Clutch Completion'</li><li>'Date Egg'</li><li>'Culmen Length (mm)'</li><li>'Culmen Depth (mm)'</li><li>'Flipper Length (mm)'</li><li>'Body Mass (g)'</li><li>'Sex'</li><li>'Delta 15 N (o/oo)'</li><li>'Delta 13 C (o/oo)'</li><li>'Comments'</li></ol>\n"
      ],
      "text/latex": [
       "\\begin{enumerate*}\n",
       "\\item 'studyName'\n",
       "\\item 'Sample Number'\n",
       "\\item 'Species'\n",
       "\\item 'Region'\n",
       "\\item 'Island'\n",
       "\\item 'Stage'\n",
       "\\item 'Individual ID'\n",
       "\\item 'Clutch Completion'\n",
       "\\item 'Date Egg'\n",
       "\\item 'Culmen Length (mm)'\n",
       "\\item 'Culmen Depth (mm)'\n",
       "\\item 'Flipper Length (mm)'\n",
       "\\item 'Body Mass (g)'\n",
       "\\item 'Sex'\n",
       "\\item 'Delta 15 N (o/oo)'\n",
       "\\item 'Delta 13 C (o/oo)'\n",
       "\\item 'Comments'\n",
       "\\end{enumerate*}\n"
      ],
      "text/markdown": [
       "1. 'studyName'\n",
       "2. 'Sample Number'\n",
       "3. 'Species'\n",
       "4. 'Region'\n",
       "5. 'Island'\n",
       "6. 'Stage'\n",
       "7. 'Individual ID'\n",
       "8. 'Clutch Completion'\n",
       "9. 'Date Egg'\n",
       "10. 'Culmen Length (mm)'\n",
       "11. 'Culmen Depth (mm)'\n",
       "12. 'Flipper Length (mm)'\n",
       "13. 'Body Mass (g)'\n",
       "14. 'Sex'\n",
       "15. 'Delta 15 N (o/oo)'\n",
       "16. 'Delta 13 C (o/oo)'\n",
       "17. 'Comments'\n",
       "\n",
       "\n"
      ],
      "text/plain": [
       " [1] \"studyName\"           \"Sample Number\"       \"Species\"            \n",
       " [4] \"Region\"              \"Island\"              \"Stage\"              \n",
       " [7] \"Individual ID\"       \"Clutch Completion\"   \"Date Egg\"           \n",
       "[10] \"Culmen Length (mm)\"  \"Culmen Depth (mm)\"   \"Flipper Length (mm)\"\n",
       "[13] \"Body Mass (g)\"       \"Sex\"                 \"Delta 15 N (o/oo)\"  \n",
       "[16] \"Delta 13 C (o/oo)\"   \"Comments\"           "
      ]
     },
     "metadata": {},
     "output_type": "display_data"
    }
   ],
   "source": [
    "penguins_raw <- read_csv(here(\"data\", \"penguins_raw.csv\"), show_col_types = FALSE)\n",
    "colnames(penguins_raw)\n",
    "# show_col_types = FALSE    stops it printing after loading"
   ]
  },
  {
   "cell_type": "code",
   "execution_count": 34,
   "metadata": {
    "slideshow": {
     "slide_type": "subslide"
    },
    "vscode": {
     "languageId": "r"
    }
   },
   "outputs": [
    {
     "data": {
      "text/html": [
       "<style>\n",
       ".list-inline {list-style: none; margin:0; padding: 0}\n",
       ".list-inline>li {display: inline-block}\n",
       ".list-inline>li:not(:last-child)::after {content: \"\\00b7\"; padding: 0 .5ex}\n",
       "</style>\n",
       "<ol class=list-inline><li>'studyName'</li><li>'Sample Number'</li><li>'Species'</li><li>'Region'</li><li>'Island'</li><li>'Stage'</li><li>'Individual ID'</li><li>'Clutch Completion'</li><li>'Date Egg'</li><li>'Culmen Length (mm)'</li><li>'Culmen Depth (mm)'</li><li>'Flipper Length (mm)'</li><li>'Body Mass (g)'</li><li>'Sex'</li><li>'Delta 15 N (o/oo)'</li><li>'Delta 13 C (o/oo)'</li><li>'Comments'</li></ol>\n"
      ],
      "text/latex": [
       "\\begin{enumerate*}\n",
       "\\item 'studyName'\n",
       "\\item 'Sample Number'\n",
       "\\item 'Species'\n",
       "\\item 'Region'\n",
       "\\item 'Island'\n",
       "\\item 'Stage'\n",
       "\\item 'Individual ID'\n",
       "\\item 'Clutch Completion'\n",
       "\\item 'Date Egg'\n",
       "\\item 'Culmen Length (mm)'\n",
       "\\item 'Culmen Depth (mm)'\n",
       "\\item 'Flipper Length (mm)'\n",
       "\\item 'Body Mass (g)'\n",
       "\\item 'Sex'\n",
       "\\item 'Delta 15 N (o/oo)'\n",
       "\\item 'Delta 13 C (o/oo)'\n",
       "\\item 'Comments'\n",
       "\\end{enumerate*}\n"
      ],
      "text/markdown": [
       "1. 'studyName'\n",
       "2. 'Sample Number'\n",
       "3. 'Species'\n",
       "4. 'Region'\n",
       "5. 'Island'\n",
       "6. 'Stage'\n",
       "7. 'Individual ID'\n",
       "8. 'Clutch Completion'\n",
       "9. 'Date Egg'\n",
       "10. 'Culmen Length (mm)'\n",
       "11. 'Culmen Depth (mm)'\n",
       "12. 'Flipper Length (mm)'\n",
       "13. 'Body Mass (g)'\n",
       "14. 'Sex'\n",
       "15. 'Delta 15 N (o/oo)'\n",
       "16. 'Delta 13 C (o/oo)'\n",
       "17. 'Comments'\n",
       "\n",
       "\n"
      ],
      "text/plain": [
       " [1] \"studyName\"           \"Sample Number\"       \"Species\"            \n",
       " [4] \"Region\"              \"Island\"              \"Stage\"              \n",
       " [7] \"Individual ID\"       \"Clutch Completion\"   \"Date Egg\"           \n",
       "[10] \"Culmen Length (mm)\"  \"Culmen Depth (mm)\"   \"Flipper Length (mm)\"\n",
       "[13] \"Body Mass (g)\"       \"Sex\"                 \"Delta 15 N (o/oo)\"  \n",
       "[16] \"Delta 13 C (o/oo)\"   \"Comments\"           "
      ]
     },
     "metadata": {},
     "output_type": "display_data"
    },
    {
     "data": {
      "text/html": [
       "<style>\n",
       ".list-inline {list-style: none; margin:0; padding: 0}\n",
       ".list-inline>li {display: inline-block}\n",
       ".list-inline>li:not(:last-child)::after {content: \"\\00b7\"; padding: 0 .5ex}\n",
       "</style>\n",
       "<ol class=list-inline><li>'studyName'</li><li>'Sample Number'</li><li>'Species'</li><li>'Region'</li><li>'Island'</li><li>'Stage'</li><li>'Individual ID'</li><li>'Clutch Completion'</li><li>'Date Egg'</li><li>'Culmen Length (mm)'</li><li>'Culmen Depth (mm)'</li><li>'Flipper Length (mm)'</li><li>'Body Mass (g)'</li><li>'Sex'</li></ol>\n"
      ],
      "text/latex": [
       "\\begin{enumerate*}\n",
       "\\item 'studyName'\n",
       "\\item 'Sample Number'\n",
       "\\item 'Species'\n",
       "\\item 'Region'\n",
       "\\item 'Island'\n",
       "\\item 'Stage'\n",
       "\\item 'Individual ID'\n",
       "\\item 'Clutch Completion'\n",
       "\\item 'Date Egg'\n",
       "\\item 'Culmen Length (mm)'\n",
       "\\item 'Culmen Depth (mm)'\n",
       "\\item 'Flipper Length (mm)'\n",
       "\\item 'Body Mass (g)'\n",
       "\\item 'Sex'\n",
       "\\end{enumerate*}\n"
      ],
      "text/markdown": [
       "1. 'studyName'\n",
       "2. 'Sample Number'\n",
       "3. 'Species'\n",
       "4. 'Region'\n",
       "5. 'Island'\n",
       "6. 'Stage'\n",
       "7. 'Individual ID'\n",
       "8. 'Clutch Completion'\n",
       "9. 'Date Egg'\n",
       "10. 'Culmen Length (mm)'\n",
       "11. 'Culmen Depth (mm)'\n",
       "12. 'Flipper Length (mm)'\n",
       "13. 'Body Mass (g)'\n",
       "14. 'Sex'\n",
       "\n",
       "\n"
      ],
      "text/plain": [
       " [1] \"studyName\"           \"Sample Number\"       \"Species\"            \n",
       " [4] \"Region\"              \"Island\"              \"Stage\"              \n",
       " [7] \"Individual ID\"       \"Clutch Completion\"   \"Date Egg\"           \n",
       "[10] \"Culmen Length (mm)\"  \"Culmen Depth (mm)\"   \"Flipper Length (mm)\"\n",
       "[13] \"Body Mass (g)\"       \"Sex\"                "
      ]
     },
     "metadata": {},
     "output_type": "display_data"
    }
   ],
   "source": [
    "# ------- All the code so far: -------\n",
    "# library(tidyverse)\n",
    "# library(palmerpenguins)\n",
    "# library(here)\n",
    "# library(janitor)\n",
    "#\n",
    "# head(penguins_raw)\n",
    "#\n",
    "# write_csv(penguins, here(\"data\", \"penguins.csv\"))\n",
    "# ------------------------------\n",
    "\n",
    "# ------- Previous version: -------\n",
    "# names(penguins_raw)\n",
    "# penguins_raw <- select(penguins_raw, -Comments)\n",
    "# penguins_raw <- select(penguins_raw, -starts_with(\"Delta\"))\n",
    "# names(penguins_raw)\n",
    "# ------------------------------\n",
    "\n",
    "# Loading the data because we overwrote it \n",
    "colnames(penguins_raw)\n",
    "penguins_raw <- read_csv(here(\"data\", \"penguins_raw.csv\"), show_col_types = FALSE)\n",
    "penguins_clean <- select(penguins_raw, -Comments)\n",
    "penguins_clean <- select(penguins_clean, -starts_with(\"Delta\"))\n",
    "colnames(penguins_clean)\n",
    "\n"
   ]
  },
  {
   "cell_type": "markdown",
   "metadata": {
    "slideshow": {
     "slide_type": "subslide"
    }
   },
   "source": [
    "### ⚠️ **We are still overwriting**.\n",
    "\n",
    "We overwrite \"penguins_clean\" in the second line. "
   ]
  },
  {
   "cell_type": "markdown",
   "metadata": {
    "slideshow": {
     "slide_type": "slide"
    }
   },
   "source": [
    "## Using Piping from Tidyverse\n",
    "\n",
    "Instead we can use piping from the `tidyverse` library. The `%>%` means \"and then\" and we can use it to chain commands together. Use `Ctrl` + `Shift` + `M` to write one quickly. \n",
    "\n",
    "\n",
    "<img src=\"https://upload.wikimedia.org/wikipedia/commons/8/89/Dplyr_hex_logo.svg\" alt=\"Drawing\" style=\"display:block; margin:auto; width: 200px;\"/>\n",
    "\n"
   ]
  },
  {
   "cell_type": "code",
   "execution_count": 35,
   "metadata": {
    "slideshow": {
     "slide_type": "subslide"
    },
    "vscode": {
     "languageId": "r"
    }
   },
   "outputs": [
    {
     "data": {
      "text/html": [
       "<style>\n",
       ".list-inline {list-style: none; margin:0; padding: 0}\n",
       ".list-inline>li {display: inline-block}\n",
       ".list-inline>li:not(:last-child)::after {content: \"\\00b7\"; padding: 0 .5ex}\n",
       "</style>\n",
       "<ol class=list-inline><li>'studyName'</li><li>'Sample Number'</li><li>'Species'</li><li>'Region'</li><li>'Island'</li><li>'Stage'</li><li>'Individual ID'</li><li>'Clutch Completion'</li><li>'Date Egg'</li><li>'Culmen Length (mm)'</li><li>'Culmen Depth (mm)'</li><li>'Flipper Length (mm)'</li><li>'Body Mass (g)'</li><li>'Sex'</li><li>'Delta 15 N (o/oo)'</li><li>'Delta 13 C (o/oo)'</li><li>'Comments'</li></ol>\n"
      ],
      "text/latex": [
       "\\begin{enumerate*}\n",
       "\\item 'studyName'\n",
       "\\item 'Sample Number'\n",
       "\\item 'Species'\n",
       "\\item 'Region'\n",
       "\\item 'Island'\n",
       "\\item 'Stage'\n",
       "\\item 'Individual ID'\n",
       "\\item 'Clutch Completion'\n",
       "\\item 'Date Egg'\n",
       "\\item 'Culmen Length (mm)'\n",
       "\\item 'Culmen Depth (mm)'\n",
       "\\item 'Flipper Length (mm)'\n",
       "\\item 'Body Mass (g)'\n",
       "\\item 'Sex'\n",
       "\\item 'Delta 15 N (o/oo)'\n",
       "\\item 'Delta 13 C (o/oo)'\n",
       "\\item 'Comments'\n",
       "\\end{enumerate*}\n"
      ],
      "text/markdown": [
       "1. 'studyName'\n",
       "2. 'Sample Number'\n",
       "3. 'Species'\n",
       "4. 'Region'\n",
       "5. 'Island'\n",
       "6. 'Stage'\n",
       "7. 'Individual ID'\n",
       "8. 'Clutch Completion'\n",
       "9. 'Date Egg'\n",
       "10. 'Culmen Length (mm)'\n",
       "11. 'Culmen Depth (mm)'\n",
       "12. 'Flipper Length (mm)'\n",
       "13. 'Body Mass (g)'\n",
       "14. 'Sex'\n",
       "15. 'Delta 15 N (o/oo)'\n",
       "16. 'Delta 13 C (o/oo)'\n",
       "17. 'Comments'\n",
       "\n",
       "\n"
      ],
      "text/plain": [
       " [1] \"studyName\"           \"Sample Number\"       \"Species\"            \n",
       " [4] \"Region\"              \"Island\"              \"Stage\"              \n",
       " [7] \"Individual ID\"       \"Clutch Completion\"   \"Date Egg\"           \n",
       "[10] \"Culmen Length (mm)\"  \"Culmen Depth (mm)\"   \"Flipper Length (mm)\"\n",
       "[13] \"Body Mass (g)\"       \"Sex\"                 \"Delta 15 N (o/oo)\"  \n",
       "[16] \"Delta 13 C (o/oo)\"   \"Comments\"           "
      ]
     },
     "metadata": {},
     "output_type": "display_data"
    },
    {
     "data": {
      "text/html": [
       "<style>\n",
       ".list-inline {list-style: none; margin:0; padding: 0}\n",
       ".list-inline>li {display: inline-block}\n",
       ".list-inline>li:not(:last-child)::after {content: \"\\00b7\"; padding: 0 .5ex}\n",
       "</style>\n",
       "<ol class=list-inline><li>'studyName'</li><li>'Sample Number'</li><li>'Species'</li><li>'Region'</li><li>'Island'</li><li>'Stage'</li><li>'Individual ID'</li><li>'Clutch Completion'</li><li>'Date Egg'</li><li>'Culmen Length (mm)'</li><li>'Culmen Depth (mm)'</li><li>'Flipper Length (mm)'</li><li>'Body Mass (g)'</li><li>'Sex'</li></ol>\n"
      ],
      "text/latex": [
       "\\begin{enumerate*}\n",
       "\\item 'studyName'\n",
       "\\item 'Sample Number'\n",
       "\\item 'Species'\n",
       "\\item 'Region'\n",
       "\\item 'Island'\n",
       "\\item 'Stage'\n",
       "\\item 'Individual ID'\n",
       "\\item 'Clutch Completion'\n",
       "\\item 'Date Egg'\n",
       "\\item 'Culmen Length (mm)'\n",
       "\\item 'Culmen Depth (mm)'\n",
       "\\item 'Flipper Length (mm)'\n",
       "\\item 'Body Mass (g)'\n",
       "\\item 'Sex'\n",
       "\\end{enumerate*}\n"
      ],
      "text/markdown": [
       "1. 'studyName'\n",
       "2. 'Sample Number'\n",
       "3. 'Species'\n",
       "4. 'Region'\n",
       "5. 'Island'\n",
       "6. 'Stage'\n",
       "7. 'Individual ID'\n",
       "8. 'Clutch Completion'\n",
       "9. 'Date Egg'\n",
       "10. 'Culmen Length (mm)'\n",
       "11. 'Culmen Depth (mm)'\n",
       "12. 'Flipper Length (mm)'\n",
       "13. 'Body Mass (g)'\n",
       "14. 'Sex'\n",
       "\n",
       "\n"
      ],
      "text/plain": [
       " [1] \"studyName\"           \"Sample Number\"       \"Species\"            \n",
       " [4] \"Region\"              \"Island\"              \"Stage\"              \n",
       " [7] \"Individual ID\"       \"Clutch Completion\"   \"Date Egg\"           \n",
       "[10] \"Culmen Length (mm)\"  \"Culmen Depth (mm)\"   \"Flipper Length (mm)\"\n",
       "[13] \"Body Mass (g)\"       \"Sex\"                "
      ]
     },
     "metadata": {},
     "output_type": "display_data"
    }
   ],
   "source": [
    "# ------- Previous version: -------\n",
    "# penguins_clean <- select(penguins_raw, -Comments)\n",
    "# penguins_clean <- select(penguins_clean, -starts_with(\"Delta\"))\n",
    "# names(penguins_raw)\n",
    "# ------------------------------\n",
    "\n",
    "# Using piping\n",
    "colnames(penguins_raw)\n",
    "penguins_clean <- penguins_raw %>%\n",
    "  select(-Comments) %>%\n",
    "  select(-starts_with(\"Delta\"))\n",
    "\n",
    "colnames(penguins_clean)"
   ]
  },
  {
   "cell_type": "markdown",
   "metadata": {
    "slideshow": {
     "slide_type": "slide"
    }
   },
   "source": [
    "\n",
    "## (14) Cleaning Column Names\n",
    "\n",
    "Now we have removed a few extra columns, but we still have a problem with the names of the columns. \n",
    "\n",
    "\n",
    "The `janitor` library has a function called `clean_names()` which will clean the column names for us. We can change our pipe to include it.\n",
    "<img src=\"https://raw.githubusercontent.com/sfirke/janitor/refs/heads/main/man/figures/logo_small.png\" alt=\"Drawing\" style=\"display:block; margin:auto\"/>\n",
    "\n"
   ]
  },
  {
   "cell_type": "code",
   "execution_count": 22,
   "metadata": {
    "slideshow": {
     "slide_type": "subslide"
    },
    "vscode": {
     "languageId": "r"
    }
   },
   "outputs": [
    {
     "data": {
      "text/html": [
       "<style>\n",
       ".list-inline {list-style: none; margin:0; padding: 0}\n",
       ".list-inline>li {display: inline-block}\n",
       ".list-inline>li:not(:last-child)::after {content: \"\\00b7\"; padding: 0 .5ex}\n",
       "</style>\n",
       "<ol class=list-inline><li>'studyName'</li><li>'Sample Number'</li><li>'Species'</li><li>'Region'</li><li>'Island'</li><li>'Stage'</li><li>'Individual ID'</li><li>'Clutch Completion'</li><li>'Date Egg'</li><li>'Culmen Length (mm)'</li><li>'Culmen Depth (mm)'</li><li>'Flipper Length (mm)'</li><li>'Body Mass (g)'</li><li>'Sex'</li><li>'Delta 15 N (o/oo)'</li><li>'Delta 13 C (o/oo)'</li><li>'Comments'</li></ol>\n"
      ],
      "text/latex": [
       "\\begin{enumerate*}\n",
       "\\item 'studyName'\n",
       "\\item 'Sample Number'\n",
       "\\item 'Species'\n",
       "\\item 'Region'\n",
       "\\item 'Island'\n",
       "\\item 'Stage'\n",
       "\\item 'Individual ID'\n",
       "\\item 'Clutch Completion'\n",
       "\\item 'Date Egg'\n",
       "\\item 'Culmen Length (mm)'\n",
       "\\item 'Culmen Depth (mm)'\n",
       "\\item 'Flipper Length (mm)'\n",
       "\\item 'Body Mass (g)'\n",
       "\\item 'Sex'\n",
       "\\item 'Delta 15 N (o/oo)'\n",
       "\\item 'Delta 13 C (o/oo)'\n",
       "\\item 'Comments'\n",
       "\\end{enumerate*}\n"
      ],
      "text/markdown": [
       "1. 'studyName'\n",
       "2. 'Sample Number'\n",
       "3. 'Species'\n",
       "4. 'Region'\n",
       "5. 'Island'\n",
       "6. 'Stage'\n",
       "7. 'Individual ID'\n",
       "8. 'Clutch Completion'\n",
       "9. 'Date Egg'\n",
       "10. 'Culmen Length (mm)'\n",
       "11. 'Culmen Depth (mm)'\n",
       "12. 'Flipper Length (mm)'\n",
       "13. 'Body Mass (g)'\n",
       "14. 'Sex'\n",
       "15. 'Delta 15 N (o/oo)'\n",
       "16. 'Delta 13 C (o/oo)'\n",
       "17. 'Comments'\n",
       "\n",
       "\n"
      ],
      "text/plain": [
       " [1] \"studyName\"           \"Sample Number\"       \"Species\"            \n",
       " [4] \"Region\"              \"Island\"              \"Stage\"              \n",
       " [7] \"Individual ID\"       \"Clutch Completion\"   \"Date Egg\"           \n",
       "[10] \"Culmen Length (mm)\"  \"Culmen Depth (mm)\"   \"Flipper Length (mm)\"\n",
       "[13] \"Body Mass (g)\"       \"Sex\"                 \"Delta 15 N (o/oo)\"  \n",
       "[16] \"Delta 13 C (o/oo)\"   \"Comments\"           "
      ]
     },
     "metadata": {},
     "output_type": "display_data"
    },
    {
     "data": {
      "text/html": [
       "<style>\n",
       ".list-inline {list-style: none; margin:0; padding: 0}\n",
       ".list-inline>li {display: inline-block}\n",
       ".list-inline>li:not(:last-child)::after {content: \"\\00b7\"; padding: 0 .5ex}\n",
       "</style>\n",
       "<ol class=list-inline><li>'study_name'</li><li>'sample_number'</li><li>'species'</li><li>'region'</li><li>'island'</li><li>'stage'</li><li>'individual_id'</li><li>'clutch_completion'</li><li>'date_egg'</li><li>'culmen_length_mm'</li><li>'culmen_depth_mm'</li><li>'flipper_length_mm'</li><li>'body_mass_g'</li><li>'sex'</li></ol>\n"
      ],
      "text/latex": [
       "\\begin{enumerate*}\n",
       "\\item 'study\\_name'\n",
       "\\item 'sample\\_number'\n",
       "\\item 'species'\n",
       "\\item 'region'\n",
       "\\item 'island'\n",
       "\\item 'stage'\n",
       "\\item 'individual\\_id'\n",
       "\\item 'clutch\\_completion'\n",
       "\\item 'date\\_egg'\n",
       "\\item 'culmen\\_length\\_mm'\n",
       "\\item 'culmen\\_depth\\_mm'\n",
       "\\item 'flipper\\_length\\_mm'\n",
       "\\item 'body\\_mass\\_g'\n",
       "\\item 'sex'\n",
       "\\end{enumerate*}\n"
      ],
      "text/markdown": [
       "1. 'study_name'\n",
       "2. 'sample_number'\n",
       "3. 'species'\n",
       "4. 'region'\n",
       "5. 'island'\n",
       "6. 'stage'\n",
       "7. 'individual_id'\n",
       "8. 'clutch_completion'\n",
       "9. 'date_egg'\n",
       "10. 'culmen_length_mm'\n",
       "11. 'culmen_depth_mm'\n",
       "12. 'flipper_length_mm'\n",
       "13. 'body_mass_g'\n",
       "14. 'sex'\n",
       "\n",
       "\n"
      ],
      "text/plain": [
       " [1] \"study_name\"        \"sample_number\"     \"species\"          \n",
       " [4] \"region\"            \"island\"            \"stage\"            \n",
       " [7] \"individual_id\"     \"clutch_completion\" \"date_egg\"         \n",
       "[10] \"culmen_length_mm\"  \"culmen_depth_mm\"   \"flipper_length_mm\"\n",
       "[13] \"body_mass_g\"       \"sex\"              "
      ]
     },
     "metadata": {},
     "output_type": "display_data"
    }
   ],
   "source": [
    "# ------- Previous version: -------\n",
    "# names(penguins_raw)\n",
    "# \n",
    "# penguins_clean <- penguins_raw %>%\n",
    "#   select(-Comments) %>%\n",
    "#   select(-starts_with(\"Delta\"))\n",
    "# \n",
    "# names(penguins_clean)\n",
    "\n",
    "colnames(penguins_raw)\n",
    "\n",
    "penguins_clean <- penguins_raw %>%\n",
    "  select(-Comments) %>%\n",
    "  select(-starts_with(\"Delta\")) %>%\n",
    "  clean_names() # Uses janitor package\n",
    "\n",
    "colnames(penguins_clean)"
   ]
  },
  {
   "cell_type": "markdown",
   "metadata": {
    "slideshow": {
     "slide_type": "subslide"
    }
   },
   "source": [
    "Our column names have now been altered. There are no spaces, and all in lower case. \n",
    "\n",
    "This means the columns are now \"computer readable\" and also \"human readable\". We should always use hyphens or underscores to separate words we use in code, or just use camel case (whichIsLikeThis). Special characters can cause problems in code, like brackets and slashes. \n",
    "\n",
    "<img src=\"https://khalilstemmler.com/img/blog/camel-snake-pascal-case/camel-case-snake-case-pascal-case.png\" alt=\"Drawing\" style=\"display:block; margin:auto; width: 400px;\"/>\n",
    "\n",
    "\n",
    "Here is all our code together:"
   ]
  },
  {
   "cell_type": "code",
   "execution_count": null,
   "metadata": {
    "slideshow": {
     "slide_type": "subslide"
    },
    "vscode": {
     "languageId": "r"
    }
   },
   "outputs": [],
   "source": [
    "library(tidyverse)\n",
    "library(palmerpenguins)\n",
    "library(here)\n",
    "library(janitor)\n",
    "\n",
    "head(penguins_raw)\n",
    "\n",
    "write_csv(penguins_raw, here(\"data\", \"penguins_raw.csv\"))\n",
    "\n",
    "penguins_clean <- penguins_raw %>%\n",
    "  select(-Comments) %>%\n",
    "  select(-starts_with(\"Delta\")) %>%\n",
    "  clean_names() # Uses janitor package\n",
    "\n",
    "colnames(penguins_clean)\n",
    "\n"
   ]
  },
  {
   "cell_type": "markdown",
   "metadata": {
    "slideshow": {
     "slide_type": "slide"
    }
   },
   "source": [
    "## Data Pipelines\n",
    "\n",
    "As things currently stand in research papers, generally the methodology looks like this:"
   ]
  },
  {
   "cell_type": "markdown",
   "metadata": {
    "slideshow": {
     "slide_type": "subslide"
    }
   },
   "source": [
    "<img src=\"https://github.com/LydiaFrance/Reproducible_Figures_R/blob/lessons/unknown_methods.png?raw=true\" alt=\"Drawing\" style=\"display:block; margin:auto; width: 800px;\"/>"
   ]
  },
  {
   "cell_type": "markdown",
   "metadata": {
    "slideshow": {
     "slide_type": "subslide"
    }
   },
   "source": [
    "We know where the research questions come from, we can read those in the introduction, and we can usually find detailed methodology about data collection in the lab or field. But when it comes to what steps happened for the analysis and producing figures, we get no information! Even the data used for the analysis is unavailable most of the time. \n",
    "\n",
    "<img src=\"https://github.com/LydiaFrance/Reproducible_Figures_R/blob/lessons/meme.png?raw=true\" alt=\"Drawing\" style=\"display:block; margin:auto; width: 300px;\"/>"
   ]
  },
  {
   "cell_type": "markdown",
   "metadata": {
    "slideshow": {
     "slide_type": "subslide"
    }
   },
   "source": [
    "What we should be doing is filling in the blanks:\n",
    "\n",
    "<img src=\"https://github.com/LydiaFrance/Reproducible_Figures_R/blob/lessons/data_pipeline.png?raw=true\" alt=\"Drawing\" style=\"display:block; margin:auto; width: 1000px;\"/>"
   ]
  },
  {
   "cell_type": "markdown",
   "metadata": {
    "slideshow": {
     "slide_type": "subslide"
    }
   },
   "source": [
    "And in closer detail:\n",
    "\n",
    "<img src=\"https://github.com/LydiaFrance/Reproducible_Figures_R/blob/lessons/data_pipeline_detail.png?raw=true\" alt=\"Drawing\" style=\"display:block; margin:auto; width: 900px;\"/>\n",
    "\n",
    "Where we can make sure the raw and cleaned data are also available, for example on Zenodo. This can help in situations where scientific results need to be held under scrutiny, and also for collaborative purposes! Other people may have exciting new uses for the computational work you have worked hard on."
   ]
  },
  {
   "cell_type": "markdown",
   "metadata": {
    "slideshow": {
     "slide_type": "slide"
    }
   },
   "source": [
    "## (15) Reuseable Code through Functions\n",
    "\n",
    "We often need the same code over and over again. This aspect of building **data pipelines** is making the parts **reusable** for other purposes. These code blocks that might be making a figure or running a specific model you know you'll need multiple times. \n",
    "\n",
    "Something that is extremely helpful in making reuseable code is making a **function**. \n",
    "\n",
    "\n",
    "<img src=\"https://book.the-turing-way.org/_images/reproducible-definition-grid.svg\" alt=\"Drawing\" style=\"display:block; margin:auto; width: 400px;\"/>"
   ]
  },
  {
   "cell_type": "markdown",
   "metadata": {
    "slideshow": {
     "slide_type": "subslide"
    }
   },
   "source": [
    "### Creating a Function in R\n",
    "\n",
    "We use functions all the time in R and we load them from Libraries. We can actually make our own. \n",
    "\n",
    "We start with the name of our function, we're going to call it `cleaning_penguin_columns`. In the brackets of `function()` we specify what is getting fed into the function, in this case the raw data. "
   ]
  },
  {
   "cell_type": "markdown",
   "metadata": {
    "slideshow": {
     "slide_type": "fragment"
    }
   },
   "source": [
    "> Note, it doesn't matter what we call the function! You might want to call it `cleaning_up_column_names`."
   ]
  },
  {
   "cell_type": "markdown",
   "metadata": {
    "slideshow": {
     "slide_type": "subslide"
    }
   },
   "source": [
    "Then as before, we put the pipe inside. We're keeping this function generally applicable, so the input can just have a generic name like `data` or `raw_data`. Unlike before, we don't specify what the new variable will be called, as the function will simply output it. The `{}` brackets specify what is inside the function."
   ]
  },
  {
   "cell_type": "code",
   "execution_count": 23,
   "metadata": {
    "slideshow": {
     "slide_type": "fragment"
    },
    "vscode": {
     "languageId": "r"
    }
   },
   "outputs": [],
   "source": [
    "cleaning_penguin_columns <- function(raw_data){\n",
    "  raw_data %>%\n",
    "    select(-Comments) %>%\n",
    "    select(-starts_with(\"Delta\")) %>%\n",
    "    clean_names()\n",
    "}\n",
    "\n",
    "# Fun fact, you can call the outputs and inputs anything you want. As long as it it internally consistent:\n",
    "\n",
    "# cleaning_penguin_columns <- function(abcdefg){\n",
    "#   abcdefg %>%\n",
    "#     clean_names()\n",
    "# }\n",
    "\n",
    "# However, this is not human readable. We write code for humans, not computers. \n"
   ]
  },
  {
   "cell_type": "markdown",
   "metadata": {
    "slideshow": {
     "slide_type": "subslide"
    }
   },
   "source": [
    "Now we've written this function, absolutely nothing happens. We need to **run** the function. "
   ]
  },
  {
   "cell_type": "markdown",
   "metadata": {
    "slideshow": {
     "slide_type": "subslide"
    }
   },
   "source": [
    "### Running the Function\n",
    "\n",
    "Here I will edit the function to add more steps. "
   ]
  },
  {
   "cell_type": "code",
   "execution_count": 24,
   "metadata": {
    "slideshow": {
     "slide_type": "subslide"
    },
    "vscode": {
     "languageId": "r"
    }
   },
   "outputs": [
    {
     "data": {
      "text/html": [
       "<style>\n",
       ".list-inline {list-style: none; margin:0; padding: 0}\n",
       ".list-inline>li {display: inline-block}\n",
       ".list-inline>li:not(:last-child)::after {content: \"\\00b7\"; padding: 0 .5ex}\n",
       "</style>\n",
       "<ol class=list-inline><li>'studyName'</li><li>'Sample Number'</li><li>'Species'</li><li>'Region'</li><li>'Island'</li><li>'Stage'</li><li>'Individual ID'</li><li>'Clutch Completion'</li><li>'Date Egg'</li><li>'Culmen Length (mm)'</li><li>'Culmen Depth (mm)'</li><li>'Flipper Length (mm)'</li><li>'Body Mass (g)'</li><li>'Sex'</li><li>'Delta 15 N (o/oo)'</li><li>'Delta 13 C (o/oo)'</li><li>'Comments'</li></ol>\n"
      ],
      "text/latex": [
       "\\begin{enumerate*}\n",
       "\\item 'studyName'\n",
       "\\item 'Sample Number'\n",
       "\\item 'Species'\n",
       "\\item 'Region'\n",
       "\\item 'Island'\n",
       "\\item 'Stage'\n",
       "\\item 'Individual ID'\n",
       "\\item 'Clutch Completion'\n",
       "\\item 'Date Egg'\n",
       "\\item 'Culmen Length (mm)'\n",
       "\\item 'Culmen Depth (mm)'\n",
       "\\item 'Flipper Length (mm)'\n",
       "\\item 'Body Mass (g)'\n",
       "\\item 'Sex'\n",
       "\\item 'Delta 15 N (o/oo)'\n",
       "\\item 'Delta 13 C (o/oo)'\n",
       "\\item 'Comments'\n",
       "\\end{enumerate*}\n"
      ],
      "text/markdown": [
       "1. 'studyName'\n",
       "2. 'Sample Number'\n",
       "3. 'Species'\n",
       "4. 'Region'\n",
       "5. 'Island'\n",
       "6. 'Stage'\n",
       "7. 'Individual ID'\n",
       "8. 'Clutch Completion'\n",
       "9. 'Date Egg'\n",
       "10. 'Culmen Length (mm)'\n",
       "11. 'Culmen Depth (mm)'\n",
       "12. 'Flipper Length (mm)'\n",
       "13. 'Body Mass (g)'\n",
       "14. 'Sex'\n",
       "15. 'Delta 15 N (o/oo)'\n",
       "16. 'Delta 13 C (o/oo)'\n",
       "17. 'Comments'\n",
       "\n",
       "\n"
      ],
      "text/plain": [
       " [1] \"studyName\"           \"Sample Number\"       \"Species\"            \n",
       " [4] \"Region\"              \"Island\"              \"Stage\"              \n",
       " [7] \"Individual ID\"       \"Clutch Completion\"   \"Date Egg\"           \n",
       "[10] \"Culmen Length (mm)\"  \"Culmen Depth (mm)\"   \"Flipper Length (mm)\"\n",
       "[13] \"Body Mass (g)\"       \"Sex\"                 \"Delta 15 N (o/oo)\"  \n",
       "[16] \"Delta 13 C (o/oo)\"   \"Comments\"           "
      ]
     },
     "metadata": {},
     "output_type": "display_data"
    },
    {
     "data": {
      "text/html": [
       "<style>\n",
       ".list-inline {list-style: none; margin:0; padding: 0}\n",
       ".list-inline>li {display: inline-block}\n",
       ".list-inline>li:not(:last-child)::after {content: \"\\00b7\"; padding: 0 .5ex}\n",
       "</style>\n",
       "<ol class=list-inline><li>'study_name'</li><li>'sample_number'</li><li>'species'</li><li>'region'</li><li>'island'</li><li>'stage'</li><li>'individual_id'</li><li>'clutch_completion'</li><li>'date_egg'</li><li>'culmen_length_mm'</li><li>'culmen_depth_mm'</li><li>'flipper_length_mm'</li><li>'body_mass_g'</li><li>'sex'</li></ol>\n"
      ],
      "text/latex": [
       "\\begin{enumerate*}\n",
       "\\item 'study\\_name'\n",
       "\\item 'sample\\_number'\n",
       "\\item 'species'\n",
       "\\item 'region'\n",
       "\\item 'island'\n",
       "\\item 'stage'\n",
       "\\item 'individual\\_id'\n",
       "\\item 'clutch\\_completion'\n",
       "\\item 'date\\_egg'\n",
       "\\item 'culmen\\_length\\_mm'\n",
       "\\item 'culmen\\_depth\\_mm'\n",
       "\\item 'flipper\\_length\\_mm'\n",
       "\\item 'body\\_mass\\_g'\n",
       "\\item 'sex'\n",
       "\\end{enumerate*}\n"
      ],
      "text/markdown": [
       "1. 'study_name'\n",
       "2. 'sample_number'\n",
       "3. 'species'\n",
       "4. 'region'\n",
       "5. 'island'\n",
       "6. 'stage'\n",
       "7. 'individual_id'\n",
       "8. 'clutch_completion'\n",
       "9. 'date_egg'\n",
       "10. 'culmen_length_mm'\n",
       "11. 'culmen_depth_mm'\n",
       "12. 'flipper_length_mm'\n",
       "13. 'body_mass_g'\n",
       "14. 'sex'\n",
       "\n",
       "\n"
      ],
      "text/plain": [
       " [1] \"study_name\"        \"sample_number\"     \"species\"          \n",
       " [4] \"region\"            \"island\"            \"stage\"            \n",
       " [7] \"individual_id\"     \"clutch_completion\" \"date_egg\"         \n",
       "[10] \"culmen_length_mm\"  \"culmen_depth_mm\"   \"flipper_length_mm\"\n",
       "[13] \"body_mass_g\"       \"sex\"              "
      ]
     },
     "metadata": {},
     "output_type": "display_data"
    }
   ],
   "source": [
    "# Defining the function:\n",
    "cleaning_penguin_columns <- function(raw_data){\n",
    "  raw_data %>%\n",
    "    clean_names() %>%\n",
    "    remove_empty(c(\"rows\", \"cols\")) %>% # This removes rows and columns that are empty\n",
    "    select(-starts_with(\"delta\")) %>%   # Why is this row now different to before?\n",
    "    select(-comments)                   # Why is this row now different to before?\n",
    "}\n",
    "\n",
    "# Loading the raw data again\n",
    "penguins_raw <- read_csv(here(\"data\", \"penguins_raw.csv\"), show_col_types = FALSE)\n",
    "\n",
    "# Check the column names\n",
    "colnames(penguins_raw)\n",
    "\n",
    "# Running the function:\n",
    "penguins_clean <- cleaning_penguin_columns(penguins_raw)\n",
    "\n",
    "# Checking the output\n",
    "colnames(penguins_clean)\n",
    "\n",
    "# Fun fact Part 2: It doesn't matter if the input \n",
    "# when you call the function is different to the input in the definition.\n",
    "# penguins_raw is different to raw_data, but R knows what we mean. this \n",
    "# is helpful because we don't need to remember the exact name we used\n",
    "# in the function definition. And it makes it reuseable!\n"
   ]
  },
  {
   "cell_type": "markdown",
   "metadata": {
    "slideshow": {
     "slide_type": "subslide"
    }
   },
   "source": [
    "### To be extra clear, we can add a print statement inside the function."
   ]
  },
  {
   "cell_type": "code",
   "execution_count": null,
   "metadata": {
    "slideshow": {
     "slide_type": "fragment"
    },
    "vscode": {
     "languageId": "r"
    }
   },
   "outputs": [],
   "source": [
    "\n",
    "# ---- Previous version: ----\n",
    "# cleaning_penguin_columns <- function(raw_data){\n",
    "#   raw_data %>%\n",
    "#     clean_names() %>%\n",
    "#     remove_empty(c(\"rows\", \"cols\")) %>%\n",
    "#     select(-starts_with(\"delta\")) %>%\n",
    "#     select(-comments)\n",
    "# }\n",
    "\n",
    "# to be extra clear, we can put print statements in the function to show what is happening.\n",
    "cleaning_penguin_columns <- function(raw_data){\n",
    "  raw_data %>%\n",
    "    clean_names() %>%\n",
    "    remove_empty(c(\"rows\", \"cols\")) %>% # This removes rows and columns that are empty\n",
    "    select(-starts_with(\"delta\")) %>%   # Why is this row now different to before?\n",
    "    select(-comments)                   # Why is this row now different to before?\n",
    "    print(\"Removed empty rows and columns, cleaned column names, removed delta and comments columns\")\n",
    "}\n",
    "\n",
    "\n"
   ]
  },
  {
   "cell_type": "markdown",
   "metadata": {
    "slideshow": {
     "slide_type": "slide"
    }
   },
   "source": [
    "## (16) Saving the Clean Data\n",
    "\n",
    "We can again use the `here` library to save the data."
   ]
  },
  {
   "cell_type": "code",
   "execution_count": null,
   "metadata": {
    "slideshow": {
     "slide_type": "fragment"
    },
    "vscode": {
     "languageId": "r"
    }
   },
   "outputs": [],
   "source": [
    "write_csv(penguins_clean, here(\"data\", \"penguins_clean.csv\"))"
   ]
  },
  {
   "cell_type": "markdown",
   "metadata": {
    "slideshow": {
     "slide_type": "subslide"
    }
   },
   "source": [
    "We can now look at our files:\n",
    "\n",
    "<img src=\"image/directory_005.png\" alt=\"Drawing\" style=\"display:block; margin:auto; width: 400px;\"/>"
   ]
  },
  {
   "cell_type": "markdown",
   "metadata": {
    "slideshow": {
     "slide_type": "slide"
    }
   },
   "source": [
    "## Moving the Cleaning Function to a Separate Script\n",
    "\n",
    "\n",
    "So far in our code, we have been careful to save a copy of our raw data and clean data, but we also want a safe copy of our cleaning code. It is critical to also save a copy of the steps we took to clean the data, so that it is open to scrutiny and checking. If wrote the cleaning code in the terminal in R or across multiple files we might lose then there would be no way of reproducing it exactly later."
   ]
  },
  {
   "cell_type": "markdown",
   "metadata": {
    "slideshow": {
     "slide_type": "subslide"
    }
   },
   "source": [
    "In this toy example, we have also talked about this cleaning code function being reuseable. What is always bad is copying and pasting our code everywhere. "
   ]
  },
  {
   "cell_type": "markdown",
   "metadata": {
    "slideshow": {
     "slide_type": "fragment"
    }
   },
   "source": [
    "Why?\n",
    "\n",
    "- If you make a mistake, then you have to hunt down everywhere you pasted it\n",
    "- It's easy to have multiple variations accidentally and confuse yourself\n",
    "- No record of how that code has changed over time (remember your version control lesson)"
   ]
  },
  {
   "cell_type": "markdown",
   "metadata": {
    "slideshow": {
     "slide_type": "slide"
    }
   },
   "source": [
    "### (17) Making a new subfolder\n",
    "\n",
    "We're going to first make a new subfolder called \"functions\" where we can put our reusable code. You can do this as before by clicking the \"New Folder\" button in the bottom right of your screen. Or you can do it in the console:\n",
    "\n",
    "`dir.create(here(\"functions\"))`\n",
    "\n",
    "Only run this once!\n",
    "\n",
    "<img src=\"image/directory_006.png\" alt=\"Drawing\" style=\"display:block; margin:auto; width: 400px;\"/>"
   ]
  },
  {
   "cell_type": "markdown",
   "metadata": {
    "slideshow": {
     "slide_type": "subslide"
    }
   },
   "source": [
    "### (18) Making a new script\n",
    "\n",
    "We're now going to make a new R script (not markdown)in our \"functions\" folder. You can do this by clicking the \"New File\" button in the bottom right of your screen. Or you can do it in the console:\n",
    "\n",
    "`file.create(here(\"functions\", \"cleaning.R\"))`"
   ]
  },
  {
   "cell_type": "markdown",
   "metadata": {
    "slideshow": {
     "slide_type": "subslide"
    }
   },
   "source": [
    "<img src=\"image/directory_007.png\" alt=\"Drawing\" style=\"display:block; margin:auto; width: 400px;\"/>\n"
   ]
  },
  {
   "cell_type": "markdown",
   "metadata": {
    "slideshow": {
     "slide_type": "slide"
    }
   },
   "source": [
    "Inside this R file we can paste our function. "
   ]
  },
  {
   "cell_type": "code",
   "execution_count": null,
   "metadata": {
    "slideshow": {
     "slide_type": "fragment"
    },
    "vscode": {
     "languageId": "r"
    }
   },
   "outputs": [],
   "source": [
    "\n",
    "# This is what is inside cleaning.r:\n",
    "# -----------------------------------------------------------\n",
    "# # Clean column names, remove empty rows, remove columns called comment and delta\n",
    "\n",
    "# -----------------------------------------------------------\n"
   ]
  },
  {
   "cell_type": "markdown",
   "metadata": {
    "slideshow": {
     "slide_type": "subslide"
    }
   },
   "source": [
    "### (19) Loading the Function file\n",
    "\n",
    "Now we are going to load this function into our current script. We do this by using the `source()` function. This is like the library function, but for our own R scripts and functions we have made. \n",
    "\n"
   ]
  },
  {
   "cell_type": "code",
   "execution_count": 1,
   "metadata": {
    "slideshow": {
     "slide_type": "subslide"
    },
    "vscode": {
     "languageId": "r"
    }
   },
   "outputs": [],
   "source": [
    "# ---- The top of our RMarkdown file ----\n",
    "library(tidyverse)\n",
    "library(palmerpenguins)\n",
    "library(here)\n",
    "library(janitor)\n",
    "\n",
    "source(here(\"functions\", \"cleaning.R\"))\n",
    "# -------------------------------------\n",
    "\n",
    "# ---- Load the raw data ----\n",
    "penguins_raw <- read_csv(here(\"data\", \"penguins_raw.csv\"), show_col_types = FALSE)\n",
    "# -------------------------------------\n",
    "\n",
    "# ---- Using our functions from the functions script ----\n",
    "penguins_clean <- cleaning_penguin_columns(penguins_raw)\n",
    "# ------------------------------------------------------\n",
    "\n",
    "# ---- Save the clean data ----\n",
    "write_csv(penguins_clean, here(\"data\", \"penguins_clean.csv\"))\n",
    "# -------------------------------------\n",
    "\n",
    "# ---- Check the output ----\n",
    "names(penguins_clean)\n",
    "# -------------------------------------\n"
   ]
  },
  {
   "cell_type": "markdown",
   "metadata": {
    "slideshow": {
     "slide_type": "slide"
    }
   },
   "source": [
    "# Why bother?\n",
    "\n",
    "Having copies of the same code everywhere is a bad idea. \n",
    "\n",
    "We're building our data pipeline, and keeping these blocks safe and version controlled is really important. For this workshop we're only doing minor steps and so it will seem like overkill. \n",
    "\n",
    "<img src=\"https://imgs.xkcd.com/comics/fixing_problems.png\" alt=\"Drawing\" style=\"display:block; margin:auto; width: 200px;\"/>\n",
    "\n"
   ]
  },
  {
   "cell_type": "markdown",
   "metadata": {
    "slideshow": {
     "slide_type": "subslide"
    }
   },
   "source": [
    "If you keep all the code you use for cleaning data in one place, you can then call it in multiple places whenever you need it."
   ]
  },
  {
   "cell_type": "markdown",
   "metadata": {
    "slideshow": {
     "slide_type": "fragment"
    }
   },
   "source": [
    "For example, you might want to have a script that looks at the flippers, and another script that looks at the egg laying. If you copied and pasted the cleaning data function into both scripts, and then later on realise you made a mistake in that function, you'll have to hunt down every copy you have. "
   ]
  },
  {
   "cell_type": "markdown",
   "metadata": {
    "slideshow": {
     "slide_type": "fragment"
    }
   },
   "source": [
    "Instead you can save it to a file called `functions/cleaning.R` and everytime you use it, you refer to that copy only. Then any changes you make to it are consistently applied everywhere. "
   ]
  },
  {
   "cell_type": "markdown",
   "metadata": {
    "slideshow": {
     "slide_type": "subslide"
    }
   },
   "source": [
    "You can also use your git commits to keep a clear record of what has happened to these functions over time, (your github time machine) rather than having to look through all your scripts manually. \n",
    "\n",
    "<img src=\"https://book.the-turing-way.org/_images/project-history.svg\" alt=\"Drawing\" style=\"display:block; margin:auto; width: 600px;\"/>"
   ]
  },
  {
   "cell_type": "markdown",
   "metadata": {
    "slideshow": {
     "slide_type": "subslide"
    }
   },
   "source": [
    "Also, if someone was quickly looking at your code folder, they can quickly find all the methods you used on your data to check what is going on! This is a lot better than a 2000 line `Rmd` file to read through and try to figure out what your methods were. \n",
    "\n",
    "<img src=\"https://book.the-turing-way.org/_images/readable-code.svg\" alt=\"Drawing\" style=\"display:block; margin:auto; width: 600px;\"/>"
   ]
  },
  {
   "cell_type": "markdown",
   "metadata": {
    "slideshow": {
     "slide_type": "subslide"
    }
   },
   "source": [
    "So, just like we keep a safe record of our data, we keep a safe record of our **data protocols**.\n",
    "\n",
    "<img src=\"https://the-turing-way.netlify.app/_images/reproducibility.jpg\" alt=\"Drawing\" style=\"display:block; margin:auto; width: 600px;\"/>"
   ]
  },
  {
   "cell_type": "markdown",
   "metadata": {
    "slideshow": {
     "slide_type": "subslide"
    }
   },
   "source": [
    "Also, it takes a bit of time right now, but you're saving a serious amount of headaches later on...\n",
    "\n",
    "<img src=\"https://raw.githubusercontent.com/LydiaFrance/Reproducible_Figures_R/refs/heads/lessons/CodeFast.png\" alt=\"Drawing\" style=\"display:block; margin:auto;width: 700px;\"/>"
   ]
  },
  {
   "cell_type": "markdown",
   "metadata": {
    "slideshow": {
     "slide_type": "slide"
    }
   },
   "source": [
    "## (20) Adding more functions\n",
    "\n",
    "Now go to Canvas and copy over the functions from the `cleaning.R` file to your `cleaning.R` file. \n",
    "\n",
    "\n",
    "Before, we had a function which did multiple things. You can seen in this code it has been broken up to multiple functions. \n",
    "\n",
    "Add print statements to each of these functions to tell the user what is happening. \n",
    "\n"
   ]
  },
  {
   "cell_type": "markdown",
   "metadata": {
    "slideshow": {
     "slide_type": "subslide"
    }
   },
   "source": [
    "Now we can use these functions in our `rmd` file. \n"
   ]
  },
  {
   "cell_type": "code",
   "execution_count": 3,
   "metadata": {
    "slideshow": {
     "slide_type": "fragment"
    },
    "vscode": {
     "languageId": "r"
    }
   },
   "outputs": [
    {
     "name": "stderr",
     "output_type": "stream",
     "text": [
      "── \u001b[1mAttaching core tidyverse packages\u001b[22m ──────────────────────── tidyverse 2.0.0 ──\n",
      "\u001b[32m✔\u001b[39m \u001b[34mdplyr    \u001b[39m 1.1.4     \u001b[32m✔\u001b[39m \u001b[34mreadr    \u001b[39m 2.1.5\n",
      "\u001b[32m✔\u001b[39m \u001b[34mforcats  \u001b[39m 1.0.0     \u001b[32m✔\u001b[39m \u001b[34mstringr  \u001b[39m 1.5.1\n",
      "\u001b[32m✔\u001b[39m \u001b[34mggplot2  \u001b[39m 3.5.1     \u001b[32m✔\u001b[39m \u001b[34mtibble   \u001b[39m 3.2.1\n",
      "\u001b[32m✔\u001b[39m \u001b[34mlubridate\u001b[39m 1.9.3     \u001b[32m✔\u001b[39m \u001b[34mtidyr    \u001b[39m 1.3.1\n",
      "\u001b[32m✔\u001b[39m \u001b[34mpurrr    \u001b[39m 1.0.2     \n",
      "── \u001b[1mConflicts\u001b[22m ────────────────────────────────────────── tidyverse_conflicts() ──\n",
      "\u001b[31m✖\u001b[39m \u001b[34mdplyr\u001b[39m::\u001b[32mfilter()\u001b[39m masks \u001b[34mstats\u001b[39m::filter()\n",
      "\u001b[31m✖\u001b[39m \u001b[34mdplyr\u001b[39m::\u001b[32mlag()\u001b[39m    masks \u001b[34mstats\u001b[39m::lag()\n",
      "\u001b[36mℹ\u001b[39m Use the conflicted package (\u001b[3m\u001b[34m<http://conflicted.r-lib.org/>\u001b[39m\u001b[23m) to force all conflicts to become errors\n",
      "here() starts at /Users/lfrance/Library/CloudStorage/OneDrive-Nexus365/000_AlanTuring/004_REG/001_Teaching/R_teaching\n",
      "\n",
      "\n",
      "Attaching package: ‘janitor’\n",
      "\n",
      "\n",
      "The following objects are masked from ‘package:stats’:\n",
      "\n",
      "    chisq.test, fisher.test\n",
      "\n",
      "\n"
     ]
    }
   ],
   "source": [
    "# ---- The top of our RMarkdown file ----\n",
    "library(tidyverse)\n",
    "library(palmerpenguins)\n",
    "library(here)\n",
    "library(janitor)\n",
    "\n",
    "source(here(\"functions\", \"cleaning.R\"))\n",
    "# -------------------------------------\n",
    "\n",
    "# ---- Load the raw data ----\n",
    "penguins_raw <- read_csv(here(\"data\", \"penguins_raw.csv\"), show_col_types = FALSE)\n",
    "# -------------------------------------\n",
    "\n",
    "# ---- Using our functions for cleaning ----\n",
    "penguins_clean <- clean_column_names(penguins_raw)\n",
    "penguins_clean <- remove_columns(penguins_clean, c(\"comments\", \"delta\"))\n",
    "penguins_clean <- shorten_species(penguins_clean)\n",
    "penguins_clean <- remove_empty_columns_rows(penguins_clean)\n",
    "# -------------------------------------\n",
    "\n"
   ]
  },
  {
   "cell_type": "markdown",
   "metadata": {
    "slideshow": {
     "slide_type": "subslide"
    }
   },
   "source": [
    "### ⚠️ **We are overwriting**.\n",
    "\n",
    "Take some time to now make a pipe with these functions instead.\n",
    "\n",
    "If you prefer, you can also make a function called \"cleaning_penguins\" with the pipes inside. \n"
   ]
  },
  {
   "cell_type": "code",
   "execution_count": 4,
   "metadata": {
    "slideshow": {
     "slide_type": "subslide"
    },
    "vscode": {
     "languageId": "r"
    }
   },
   "outputs": [
    {
     "data": {
      "text/html": [
       "<style>\n",
       ".list-inline {list-style: none; margin:0; padding: 0}\n",
       ".list-inline>li {display: inline-block}\n",
       ".list-inline>li:not(:last-child)::after {content: \"\\00b7\"; padding: 0 .5ex}\n",
       "</style>\n",
       "<ol class=list-inline><li>'studyName'</li><li>'Sample Number'</li><li>'Species'</li><li>'Region'</li><li>'Island'</li><li>'Stage'</li><li>'Individual ID'</li><li>'Clutch Completion'</li><li>'Date Egg'</li><li>'Culmen Length (mm)'</li><li>'Culmen Depth (mm)'</li><li>'Flipper Length (mm)'</li><li>'Body Mass (g)'</li><li>'Sex'</li><li>'Delta 15 N (o/oo)'</li><li>'Delta 13 C (o/oo)'</li><li>'Comments'</li></ol>\n"
      ],
      "text/latex": [
       "\\begin{enumerate*}\n",
       "\\item 'studyName'\n",
       "\\item 'Sample Number'\n",
       "\\item 'Species'\n",
       "\\item 'Region'\n",
       "\\item 'Island'\n",
       "\\item 'Stage'\n",
       "\\item 'Individual ID'\n",
       "\\item 'Clutch Completion'\n",
       "\\item 'Date Egg'\n",
       "\\item 'Culmen Length (mm)'\n",
       "\\item 'Culmen Depth (mm)'\n",
       "\\item 'Flipper Length (mm)'\n",
       "\\item 'Body Mass (g)'\n",
       "\\item 'Sex'\n",
       "\\item 'Delta 15 N (o/oo)'\n",
       "\\item 'Delta 13 C (o/oo)'\n",
       "\\item 'Comments'\n",
       "\\end{enumerate*}\n"
      ],
      "text/markdown": [
       "1. 'studyName'\n",
       "2. 'Sample Number'\n",
       "3. 'Species'\n",
       "4. 'Region'\n",
       "5. 'Island'\n",
       "6. 'Stage'\n",
       "7. 'Individual ID'\n",
       "8. 'Clutch Completion'\n",
       "9. 'Date Egg'\n",
       "10. 'Culmen Length (mm)'\n",
       "11. 'Culmen Depth (mm)'\n",
       "12. 'Flipper Length (mm)'\n",
       "13. 'Body Mass (g)'\n",
       "14. 'Sex'\n",
       "15. 'Delta 15 N (o/oo)'\n",
       "16. 'Delta 13 C (o/oo)'\n",
       "17. 'Comments'\n",
       "\n",
       "\n"
      ],
      "text/plain": [
       " [1] \"studyName\"           \"Sample Number\"       \"Species\"            \n",
       " [4] \"Region\"              \"Island\"              \"Stage\"              \n",
       " [7] \"Individual ID\"       \"Clutch Completion\"   \"Date Egg\"           \n",
       "[10] \"Culmen Length (mm)\"  \"Culmen Depth (mm)\"   \"Flipper Length (mm)\"\n",
       "[13] \"Body Mass (g)\"       \"Sex\"                 \"Delta 15 N (o/oo)\"  \n",
       "[16] \"Delta 13 C (o/oo)\"   \"Comments\"           "
      ]
     },
     "metadata": {},
     "output_type": "display_data"
    },
    {
     "data": {
      "text/html": [
       "<style>\n",
       ".list-inline {list-style: none; margin:0; padding: 0}\n",
       ".list-inline>li {display: inline-block}\n",
       ".list-inline>li:not(:last-child)::after {content: \"\\00b7\"; padding: 0 .5ex}\n",
       "</style>\n",
       "<ol class=list-inline><li>'study_name'</li><li>'sample_number'</li><li>'species'</li><li>'region'</li><li>'island'</li><li>'stage'</li><li>'individual_id'</li><li>'clutch_completion'</li><li>'date_egg'</li><li>'culmen_length_mm'</li><li>'culmen_depth_mm'</li><li>'flipper_length_mm'</li><li>'body_mass_g'</li><li>'sex'</li></ol>\n"
      ],
      "text/latex": [
       "\\begin{enumerate*}\n",
       "\\item 'study\\_name'\n",
       "\\item 'sample\\_number'\n",
       "\\item 'species'\n",
       "\\item 'region'\n",
       "\\item 'island'\n",
       "\\item 'stage'\n",
       "\\item 'individual\\_id'\n",
       "\\item 'clutch\\_completion'\n",
       "\\item 'date\\_egg'\n",
       "\\item 'culmen\\_length\\_mm'\n",
       "\\item 'culmen\\_depth\\_mm'\n",
       "\\item 'flipper\\_length\\_mm'\n",
       "\\item 'body\\_mass\\_g'\n",
       "\\item 'sex'\n",
       "\\end{enumerate*}\n"
      ],
      "text/markdown": [
       "1. 'study_name'\n",
       "2. 'sample_number'\n",
       "3. 'species'\n",
       "4. 'region'\n",
       "5. 'island'\n",
       "6. 'stage'\n",
       "7. 'individual_id'\n",
       "8. 'clutch_completion'\n",
       "9. 'date_egg'\n",
       "10. 'culmen_length_mm'\n",
       "11. 'culmen_depth_mm'\n",
       "12. 'flipper_length_mm'\n",
       "13. 'body_mass_g'\n",
       "14. 'sex'\n",
       "\n",
       "\n"
      ],
      "text/plain": [
       " [1] \"study_name\"        \"sample_number\"     \"species\"          \n",
       " [4] \"region\"            \"island\"            \"stage\"            \n",
       " [7] \"individual_id\"     \"clutch_completion\" \"date_egg\"         \n",
       "[10] \"culmen_length_mm\"  \"culmen_depth_mm\"   \"flipper_length_mm\"\n",
       "[13] \"body_mass_g\"       \"sex\"              "
      ]
     },
     "metadata": {},
     "output_type": "display_data"
    }
   ],
   "source": [
    "# ---- The top of our RMarkdown file ----\n",
    "library(tidyverse)\n",
    "library(palmerpenguins)\n",
    "library(here)\n",
    "library(janitor)\n",
    "\n",
    "source(here(\"functions\", \"cleaning.R\"))\n",
    "# -------------------------------------\n",
    "\n",
    "# ---- Save the raw data ----\n",
    "# write_csv(penguins_raw, here(\"data\", \"penguins_raw.csv\"))\n",
    "# -------------------------------------\n",
    "\n",
    "# ---- Load the raw data ----\n",
    "penguins_raw <- read_csv(here(\"data\", \"penguins_raw.csv\"), show_col_types = FALSE)\n",
    "# -------------------------------------\n",
    "\n",
    "colnames(penguins_raw)\n",
    "\n",
    "# ---- Using our functions for cleaning from cleaning.R ----\n",
    "penguins_clean <- penguins_raw %>%\n",
    "  clean_column_names() %>%\n",
    "  remove_columns(c(\"comments\", \"delta\")) %>%\n",
    "  shorten_species() %>%\n",
    "  remove_empty_columns_rows()\n",
    "# -------------------------------------\n",
    "\n",
    "# ---- Check the output ----\n",
    "colnames(penguins_clean)\n",
    "# -------------------------------------\n",
    "\n",
    "# ---- Save the clean data ----\n",
    "write_csv(penguins_clean, here(\"data\", \"penguins_clean.csv\"))\n",
    "# -------------------------------------\n",
    "\n",
    "\n"
   ]
  },
  {
   "cell_type": "markdown",
   "metadata": {
    "slideshow": {
     "slide_type": "subslide"
    }
   },
   "source": [
    "## (21) Subset the Data\n",
    "\n",
    "As part of data pipelines, we often want to subset the data for plotting or analysis. We may only want to look at two columns, the species and the body mass. We can do this by using the `select()` function. \n",
    "\n"
   ]
  },
  {
   "cell_type": "code",
   "execution_count": 7,
   "metadata": {
    "slideshow": {
     "slide_type": "fragment"
    },
    "vscode": {
     "languageId": "r"
    }
   },
   "outputs": [
    {
     "data": {
      "text/html": [
       "<table class=\"dataframe\">\n",
       "<caption>A tibble: 6 × 2</caption>\n",
       "<thead>\n",
       "\t<tr><th scope=col>species</th><th scope=col>body_mass_g</th></tr>\n",
       "\t<tr><th scope=col>&lt;chr&gt;</th><th scope=col>&lt;dbl&gt;</th></tr>\n",
       "</thead>\n",
       "<tbody>\n",
       "\t<tr><td>Adelie</td><td>3750</td></tr>\n",
       "\t<tr><td>Adelie</td><td>3800</td></tr>\n",
       "\t<tr><td>Adelie</td><td>3250</td></tr>\n",
       "\t<tr><td>Adelie</td><td>  NA</td></tr>\n",
       "\t<tr><td>Adelie</td><td>3450</td></tr>\n",
       "\t<tr><td>Adelie</td><td>3650</td></tr>\n",
       "</tbody>\n",
       "</table>\n"
      ],
      "text/latex": [
       "A tibble: 6 × 2\n",
       "\\begin{tabular}{ll}\n",
       " species & body\\_mass\\_g\\\\\n",
       " <chr> & <dbl>\\\\\n",
       "\\hline\n",
       "\t Adelie & 3750\\\\\n",
       "\t Adelie & 3800\\\\\n",
       "\t Adelie & 3250\\\\\n",
       "\t Adelie &   NA\\\\\n",
       "\t Adelie & 3450\\\\\n",
       "\t Adelie & 3650\\\\\n",
       "\\end{tabular}\n"
      ],
      "text/markdown": [
       "\n",
       "A tibble: 6 × 2\n",
       "\n",
       "| species &lt;chr&gt; | body_mass_g &lt;dbl&gt; |\n",
       "|---|---|\n",
       "| Adelie | 3750 |\n",
       "| Adelie | 3800 |\n",
       "| Adelie | 3250 |\n",
       "| Adelie |   NA |\n",
       "| Adelie | 3450 |\n",
       "| Adelie | 3650 |\n",
       "\n"
      ],
      "text/plain": [
       "  species body_mass_g\n",
       "1 Adelie  3750       \n",
       "2 Adelie  3800       \n",
       "3 Adelie  3250       \n",
       "4 Adelie    NA       \n",
       "5 Adelie  3450       \n",
       "6 Adelie  3650       "
      ]
     },
     "metadata": {},
     "output_type": "display_data"
    }
   ],
   "source": [
    "body_mass <- penguins_clean %>%\n",
    "  select(species, body_mass_g)\n",
    "\n",
    "head(body_mass)\n"
   ]
  },
  {
   "cell_type": "markdown",
   "metadata": {
    "slideshow": {
     "slide_type": "subslide"
    }
   },
   "source": [
    "We can see there is NA, which means there is a missing value. \n",
    "\n",
    "We have already removed empty rows, but this is an example of just a missing value, the rest of the row is not completely empty. \n"
   ]
  },
  {
   "cell_type": "code",
   "execution_count": 25,
   "metadata": {
    "slideshow": {
     "slide_type": "fragment"
    },
    "vscode": {
     "languageId": "r"
    }
   },
   "outputs": [
    {
     "name": "stdout",
     "output_type": "stream",
     "text": [
      "[1] \"Number of rows: 344\"\n",
      "[1] \"Number of missing values: 2\"\n"
     ]
    }
   ],
   "source": [
    "# Count the number of rows and the number of missing values\n",
    "print(paste(\"Number of rows:\", nrow(body_mass)))\n",
    "print(paste(\"Number of missing values:\", sum(is.na(body_mass))))\n",
    "\n"
   ]
  },
  {
   "cell_type": "markdown",
   "metadata": {
    "slideshow": {
     "slide_type": "slide"
    }
   },
   "source": [
    "## (22) Removing Missing Values\n",
    "\n",
    "We can remove missing values by using the `na.omit()` function. Again, you will find this in the `cleaning.R` file. \n"
   ]
  },
  {
   "cell_type": "code",
   "execution_count": null,
   "metadata": {
    "slideshow": {
     "slide_type": "fragment"
    },
    "vscode": {
     "languageId": "r"
    }
   },
   "outputs": [],
   "source": [
    "body_mass <- subset_columns(penguins_clean, c(\"species\", \"body_mass_g\"))\n",
    "body_mass <- remove_NA(body_mass)"
   ]
  },
  {
   "cell_type": "markdown",
   "metadata": {
    "slideshow": {
     "slide_type": "subslide"
    }
   },
   "source": [
    "### ⚠️ **We are overwriting**.\n"
   ]
  },
  {
   "cell_type": "code",
   "execution_count": 27,
   "metadata": {
    "slideshow": {
     "slide_type": "subslide"
    },
    "vscode": {
     "languageId": "r"
    }
   },
   "outputs": [
    {
     "name": "stdout",
     "output_type": "stream",
     "text": [
      "[1] \"Number of rows: 342\"\n",
      "[1] \"Number of missing values: 0\"\n"
     ]
    }
   ],
   "source": [
    "body_mass <- penguins_clean %>%\n",
    "    select(species, body_mass_g) %>%\n",
    "    remove_NA()\n",
    "\n",
    "print(paste(\"Number of rows:\", nrow(body_mass)))\n",
    "print(paste(\"Number of missing values:\", sum(is.na(body_mass))))\n"
   ]
  },
  {
   "cell_type": "markdown",
   "metadata": {
    "slideshow": {
     "slide_type": "slide"
    }
   },
   "source": [
    "## (23) Filter by species\n",
    "\n",
    "Another kind of subsetting is to filter by a specific value. In this case we might want to look at just the Adelie penguins. "
   ]
  },
  {
   "cell_type": "code",
   "execution_count": 31,
   "metadata": {
    "slideshow": {
     "slide_type": "fragment"
    },
    "vscode": {
     "languageId": "r"
    }
   },
   "outputs": [
    {
     "data": {
      "text/html": [
       "<table class=\"dataframe\">\n",
       "<caption>A tibble: 6 × 14</caption>\n",
       "<thead>\n",
       "\t<tr><th scope=col>study_name</th><th scope=col>sample_number</th><th scope=col>species</th><th scope=col>region</th><th scope=col>island</th><th scope=col>stage</th><th scope=col>individual_id</th><th scope=col>clutch_completion</th><th scope=col>date_egg</th><th scope=col>culmen_length_mm</th><th scope=col>culmen_depth_mm</th><th scope=col>flipper_length_mm</th><th scope=col>body_mass_g</th><th scope=col>sex</th></tr>\n",
       "\t<tr><th scope=col>&lt;chr&gt;</th><th scope=col>&lt;dbl&gt;</th><th scope=col>&lt;chr&gt;</th><th scope=col>&lt;chr&gt;</th><th scope=col>&lt;chr&gt;</th><th scope=col>&lt;chr&gt;</th><th scope=col>&lt;chr&gt;</th><th scope=col>&lt;chr&gt;</th><th scope=col>&lt;date&gt;</th><th scope=col>&lt;dbl&gt;</th><th scope=col>&lt;dbl&gt;</th><th scope=col>&lt;dbl&gt;</th><th scope=col>&lt;dbl&gt;</th><th scope=col>&lt;chr&gt;</th></tr>\n",
       "</thead>\n",
       "<tbody>\n",
       "\t<tr><td>PAL0708</td><td>1</td><td>Adelie</td><td>Anvers</td><td>Torgersen</td><td>Adult, 1 Egg Stage</td><td>N1A1</td><td>Yes</td><td>2007-11-11</td><td>39.1</td><td>18.7</td><td>181</td><td>3750</td><td>MALE  </td></tr>\n",
       "\t<tr><td>PAL0708</td><td>2</td><td>Adelie</td><td>Anvers</td><td>Torgersen</td><td>Adult, 1 Egg Stage</td><td>N1A2</td><td>Yes</td><td>2007-11-11</td><td>39.5</td><td>17.4</td><td>186</td><td>3800</td><td>FEMALE</td></tr>\n",
       "\t<tr><td>PAL0708</td><td>3</td><td>Adelie</td><td>Anvers</td><td>Torgersen</td><td>Adult, 1 Egg Stage</td><td>N2A1</td><td>Yes</td><td>2007-11-16</td><td>40.3</td><td>18.0</td><td>195</td><td>3250</td><td>FEMALE</td></tr>\n",
       "\t<tr><td>PAL0708</td><td>4</td><td>Adelie</td><td>Anvers</td><td>Torgersen</td><td>Adult, 1 Egg Stage</td><td>N2A2</td><td>Yes</td><td>2007-11-16</td><td>  NA</td><td>  NA</td><td> NA</td><td>  NA</td><td>NA    </td></tr>\n",
       "\t<tr><td>PAL0708</td><td>5</td><td>Adelie</td><td>Anvers</td><td>Torgersen</td><td>Adult, 1 Egg Stage</td><td>N3A1</td><td>Yes</td><td>2007-11-16</td><td>36.7</td><td>19.3</td><td>193</td><td>3450</td><td>FEMALE</td></tr>\n",
       "\t<tr><td>PAL0708</td><td>6</td><td>Adelie</td><td>Anvers</td><td>Torgersen</td><td>Adult, 1 Egg Stage</td><td>N3A2</td><td>Yes</td><td>2007-11-16</td><td>39.3</td><td>20.6</td><td>190</td><td>3650</td><td>MALE  </td></tr>\n",
       "</tbody>\n",
       "</table>\n"
      ],
      "text/latex": [
       "A tibble: 6 × 14\n",
       "\\begin{tabular}{llllllllllllll}\n",
       " study\\_name & sample\\_number & species & region & island & stage & individual\\_id & clutch\\_completion & date\\_egg & culmen\\_length\\_mm & culmen\\_depth\\_mm & flipper\\_length\\_mm & body\\_mass\\_g & sex\\\\\n",
       " <chr> & <dbl> & <chr> & <chr> & <chr> & <chr> & <chr> & <chr> & <date> & <dbl> & <dbl> & <dbl> & <dbl> & <chr>\\\\\n",
       "\\hline\n",
       "\t PAL0708 & 1 & Adelie & Anvers & Torgersen & Adult, 1 Egg Stage & N1A1 & Yes & 2007-11-11 & 39.1 & 18.7 & 181 & 3750 & MALE  \\\\\n",
       "\t PAL0708 & 2 & Adelie & Anvers & Torgersen & Adult, 1 Egg Stage & N1A2 & Yes & 2007-11-11 & 39.5 & 17.4 & 186 & 3800 & FEMALE\\\\\n",
       "\t PAL0708 & 3 & Adelie & Anvers & Torgersen & Adult, 1 Egg Stage & N2A1 & Yes & 2007-11-16 & 40.3 & 18.0 & 195 & 3250 & FEMALE\\\\\n",
       "\t PAL0708 & 4 & Adelie & Anvers & Torgersen & Adult, 1 Egg Stage & N2A2 & Yes & 2007-11-16 &   NA &   NA &  NA &   NA & NA    \\\\\n",
       "\t PAL0708 & 5 & Adelie & Anvers & Torgersen & Adult, 1 Egg Stage & N3A1 & Yes & 2007-11-16 & 36.7 & 19.3 & 193 & 3450 & FEMALE\\\\\n",
       "\t PAL0708 & 6 & Adelie & Anvers & Torgersen & Adult, 1 Egg Stage & N3A2 & Yes & 2007-11-16 & 39.3 & 20.6 & 190 & 3650 & MALE  \\\\\n",
       "\\end{tabular}\n"
      ],
      "text/markdown": [
       "\n",
       "A tibble: 6 × 14\n",
       "\n",
       "| study_name &lt;chr&gt; | sample_number &lt;dbl&gt; | species &lt;chr&gt; | region &lt;chr&gt; | island &lt;chr&gt; | stage &lt;chr&gt; | individual_id &lt;chr&gt; | clutch_completion &lt;chr&gt; | date_egg &lt;date&gt; | culmen_length_mm &lt;dbl&gt; | culmen_depth_mm &lt;dbl&gt; | flipper_length_mm &lt;dbl&gt; | body_mass_g &lt;dbl&gt; | sex &lt;chr&gt; |\n",
       "|---|---|---|---|---|---|---|---|---|---|---|---|---|---|\n",
       "| PAL0708 | 1 | Adelie | Anvers | Torgersen | Adult, 1 Egg Stage | N1A1 | Yes | 2007-11-11 | 39.1 | 18.7 | 181 | 3750 | MALE   |\n",
       "| PAL0708 | 2 | Adelie | Anvers | Torgersen | Adult, 1 Egg Stage | N1A2 | Yes | 2007-11-11 | 39.5 | 17.4 | 186 | 3800 | FEMALE |\n",
       "| PAL0708 | 3 | Adelie | Anvers | Torgersen | Adult, 1 Egg Stage | N2A1 | Yes | 2007-11-16 | 40.3 | 18.0 | 195 | 3250 | FEMALE |\n",
       "| PAL0708 | 4 | Adelie | Anvers | Torgersen | Adult, 1 Egg Stage | N2A2 | Yes | 2007-11-16 |   NA |   NA |  NA |   NA | NA     |\n",
       "| PAL0708 | 5 | Adelie | Anvers | Torgersen | Adult, 1 Egg Stage | N3A1 | Yes | 2007-11-16 | 36.7 | 19.3 | 193 | 3450 | FEMALE |\n",
       "| PAL0708 | 6 | Adelie | Anvers | Torgersen | Adult, 1 Egg Stage | N3A2 | Yes | 2007-11-16 | 39.3 | 20.6 | 190 | 3650 | MALE   |\n",
       "\n"
      ],
      "text/plain": [
       "  study_name sample_number species region island    stage             \n",
       "1 PAL0708    1             Adelie  Anvers Torgersen Adult, 1 Egg Stage\n",
       "2 PAL0708    2             Adelie  Anvers Torgersen Adult, 1 Egg Stage\n",
       "3 PAL0708    3             Adelie  Anvers Torgersen Adult, 1 Egg Stage\n",
       "4 PAL0708    4             Adelie  Anvers Torgersen Adult, 1 Egg Stage\n",
       "5 PAL0708    5             Adelie  Anvers Torgersen Adult, 1 Egg Stage\n",
       "6 PAL0708    6             Adelie  Anvers Torgersen Adult, 1 Egg Stage\n",
       "  individual_id clutch_completion date_egg   culmen_length_mm culmen_depth_mm\n",
       "1 N1A1          Yes               2007-11-11 39.1             18.7           \n",
       "2 N1A2          Yes               2007-11-11 39.5             17.4           \n",
       "3 N2A1          Yes               2007-11-16 40.3             18.0           \n",
       "4 N2A2          Yes               2007-11-16   NA               NA           \n",
       "5 N3A1          Yes               2007-11-16 36.7             19.3           \n",
       "6 N3A2          Yes               2007-11-16 39.3             20.6           \n",
       "  flipper_length_mm body_mass_g sex   \n",
       "1 181               3750        MALE  \n",
       "2 186               3800        FEMALE\n",
       "3 195               3250        FEMALE\n",
       "4  NA                 NA        NA    \n",
       "5 193               3450        FEMALE\n",
       "6 190               3650        MALE  "
      ]
     },
     "metadata": {},
     "output_type": "display_data"
    }
   ],
   "source": [
    "adelie_data <- penguins_clean %>%\n",
    "  filter(species == \"Adelie\")\n",
    "\n",
    "head(adelie_data)\n",
    "\n"
   ]
  },
  {
   "cell_type": "markdown",
   "metadata": {
    "slideshow": {
     "slide_type": "subslide"
    }
   },
   "source": [
    "We can also combine to get just the body mass of Adelie penguins. "
   ]
  },
  {
   "cell_type": "code",
   "execution_count": 30,
   "metadata": {
    "slideshow": {
     "slide_type": "fragment"
    },
    "vscode": {
     "languageId": "r"
    }
   },
   "outputs": [
    {
     "data": {
      "text/html": [
       "<table class=\"dataframe\">\n",
       "<caption>A tibble: 6 × 2</caption>\n",
       "<thead>\n",
       "\t<tr><th scope=col>species</th><th scope=col>body_mass_g</th></tr>\n",
       "\t<tr><th scope=col>&lt;chr&gt;</th><th scope=col>&lt;dbl&gt;</th></tr>\n",
       "</thead>\n",
       "<tbody>\n",
       "\t<tr><td>Adelie</td><td>3750</td></tr>\n",
       "\t<tr><td>Adelie</td><td>3800</td></tr>\n",
       "\t<tr><td>Adelie</td><td>3250</td></tr>\n",
       "\t<tr><td>Adelie</td><td>3450</td></tr>\n",
       "\t<tr><td>Adelie</td><td>3650</td></tr>\n",
       "\t<tr><td>Adelie</td><td>3625</td></tr>\n",
       "</tbody>\n",
       "</table>\n"
      ],
      "text/latex": [
       "A tibble: 6 × 2\n",
       "\\begin{tabular}{ll}\n",
       " species & body\\_mass\\_g\\\\\n",
       " <chr> & <dbl>\\\\\n",
       "\\hline\n",
       "\t Adelie & 3750\\\\\n",
       "\t Adelie & 3800\\\\\n",
       "\t Adelie & 3250\\\\\n",
       "\t Adelie & 3450\\\\\n",
       "\t Adelie & 3650\\\\\n",
       "\t Adelie & 3625\\\\\n",
       "\\end{tabular}\n"
      ],
      "text/markdown": [
       "\n",
       "A tibble: 6 × 2\n",
       "\n",
       "| species &lt;chr&gt; | body_mass_g &lt;dbl&gt; |\n",
       "|---|---|\n",
       "| Adelie | 3750 |\n",
       "| Adelie | 3800 |\n",
       "| Adelie | 3250 |\n",
       "| Adelie | 3450 |\n",
       "| Adelie | 3650 |\n",
       "| Adelie | 3625 |\n",
       "\n"
      ],
      "text/plain": [
       "  species body_mass_g\n",
       "1 Adelie  3750       \n",
       "2 Adelie  3800       \n",
       "3 Adelie  3250       \n",
       "4 Adelie  3450       \n",
       "5 Adelie  3650       \n",
       "6 Adelie  3625       "
      ]
     },
     "metadata": {},
     "output_type": "display_data"
    }
   ],
   "source": [
    "# adelie_data <- penguins_clean %>%\n",
    "#   filter(species == \"Adelie\")\n",
    "\n",
    "# head(adelie_data)\n",
    "\n",
    "adelie_body_mass <- penguins_clean %>%\n",
    "  filter(species == \"Adelie\") %>%\n",
    "  select(species, body_mass_g) %>%\n",
    "  remove_NA()\n",
    "\n",
    "head(adelie_body_mass)\n",
    "\n"
   ]
  },
  {
   "cell_type": "markdown",
   "metadata": {
    "slideshow": {
     "slide_type": "subslide"
    }
   },
   "source": [
    "Every time, we start with `penguins_clean` so we do not overwrite our data. "
   ]
  },
  {
   "cell_type": "markdown",
   "metadata": {
    "slideshow": {
     "slide_type": "slide"
    }
   },
   "source": [
    "## Installing libraries the reproducible way\n",
    "\n",
    "Before we have been using `install.packages()` to install the libraries. This is not the best way to do it, because it is not reproducible. If we put this in a script, it will install the libraries everytime we run the script, which is very slow. \n",
    "\n",
    "<img src=\"https://rstudio.github.io/renv/logo.svg\" alt=\"Drawing\" style=\"display:block; margin:auto;width: 200px;\"/>\n"
   ]
  },
  {
   "cell_type": "markdown",
   "metadata": {
    "slideshow": {
     "slide_type": "subslide"
    }
   },
   "source": [
    "### (24) Install `renv`\n",
    "\n",
    "Check your files and see if you already have a renv folder. If you do, you can skip this step. If you don't, you can install renv by running the following code:"
   ]
  },
  {
   "cell_type": "code",
   "execution_count": null,
   "metadata": {
    "slideshow": {
     "slide_type": "fragment"
    },
    "vscode": {
     "languageId": "r"
    }
   },
   "outputs": [],
   "source": [
    "install.packages(\"renv\")"
   ]
  },
  {
   "cell_type": "markdown",
   "metadata": {
    "slideshow": {
     "slide_type": "subslide"
    }
   },
   "source": [
    "We will now initialise renv:"
   ]
  },
  {
   "cell_type": "code",
   "execution_count": null,
   "metadata": {
    "slideshow": {
     "slide_type": "fragment"
    },
    "vscode": {
     "languageId": "r"
    }
   },
   "outputs": [],
   "source": [
    "renv::init()"
   ]
  },
  {
   "cell_type": "markdown",
   "metadata": {
    "slideshow": {
     "slide_type": "subslide"
    }
   },
   "source": [
    "You will now see a `renv` folder in your working directory. We're going to use this to keep a record of the libraries we have installed. \n",
    "\n",
    "Try to now install a new library. You might want to pick `modelsummary` or `table1` as an example, but you can pick any library. "
   ]
  },
  {
   "cell_type": "code",
   "execution_count": null,
   "metadata": {
    "slideshow": {
     "slide_type": "fragment"
    },
    "vscode": {
     "languageId": "r"
    }
   },
   "outputs": [],
   "source": [
    "install.packages(\"modelsummary\")"
   ]
  },
  {
   "cell_type": "markdown",
   "metadata": {
    "slideshow": {
     "slide_type": "subslide"
    }
   },
   "source": [
    "## (25) Create a Snapshot\n",
    "\n",
    "We can now create a snapshot of everything we have installed. This will create a file called `renv.lock` which will contain a record of all the libraries we have installed. \n"
   ]
  },
  {
   "cell_type": "code",
   "execution_count": null,
   "metadata": {
    "slideshow": {
     "slide_type": "fragment"
    },
    "vscode": {
     "languageId": "r"
    }
   },
   "outputs": [],
   "source": [
    "renv::snapshot()"
   ]
  },
  {
   "cell_type": "markdown",
   "metadata": {
    "slideshow": {
     "slide_type": "subslide"
    }
   },
   "source": [
    "### (26) Look at the lock file\n",
    "\n",
    "Open the `renv.lock` file and look at the libraries that have been installed. You'll notice that it has installed a load of other dependencies too. You can also run this as a summary:"
   ]
  },
  {
   "cell_type": "code",
   "execution_count": null,
   "metadata": {
    "slideshow": {
     "slide_type": "fragment"
    },
    "vscode": {
     "languageId": "r"
    }
   },
   "outputs": [],
   "source": [
    "renv::diagnostics()"
   ]
  },
  {
   "cell_type": "markdown",
   "metadata": {
    "slideshow": {
     "slide_type": "subslide"
    }
   },
   "source": [
    "### (27) Restore the snapshot\n",
    "\n",
    "When someone else wants to run our code, they can download all our folders and subfolders, including our new lockfile. They can then restore the snapshot to ensure they have the same libraries installed. "
   ]
  },
  {
   "cell_type": "code",
   "execution_count": null,
   "metadata": {
    "slideshow": {
     "slide_type": "subslide"
    },
    "vscode": {
     "languageId": "r"
    }
   },
   "outputs": [],
   "source": [
    "renv::restore()"
   ]
  },
  {
   "cell_type": "markdown",
   "metadata": {
    "slideshow": {
     "slide_type": "fragment"
    }
   },
   "source": [
    "This is much more efficient than installing the libraries manually. "
   ]
  },
  {
   "cell_type": "markdown",
   "metadata": {
    "slideshow": {
     "slide_type": "subslide"
    }
   },
   "source": [
    "### (28) Reopen RProject\n",
    "\n",
    "Save everything, and close RStudio. Open up your RProject by opening the `RProject` file. \n",
    "\n",
    "You'll notice in the bottom left hand corner it says `renv` connected. This means that renv is active. You can write the following to check:"
   ]
  },
  {
   "cell_type": "code",
   "execution_count": null,
   "metadata": {
    "slideshow": {
     "slide_type": "fragment"
    },
    "vscode": {
     "languageId": "r"
    }
   },
   "outputs": [],
   "source": [
    "renv::status()"
   ]
  },
  {
   "cell_type": "markdown",
   "metadata": {
    "slideshow": {
     "slide_type": "slide"
    }
   },
   "source": [
    "# Conclusion\n",
    "\n",
    "In this lesson, we've covered several key aspects of reproducible research and good coding practices in R:"
   ]
  },
  {
   "cell_type": "markdown",
   "metadata": {
    "slideshow": {
     "slide_type": "subslide"
    }
   },
   "source": [
    "1. Creating a structured project folder\n",
    "2. Using relative file paths with the `here` package\n",
    "3. Writing modular, reusable code with functions\n",
    "4. Separating data cleaning steps into a dedicated script\n",
    "5. Managing package dependencies with `renv`"
   ]
  },
  {
   "cell_type": "markdown",
   "metadata": {
    "slideshow": {
     "slide_type": "subslide"
    }
   },
   "source": [
    "By implementing these practices, we've built a robust, reproducible data pipeline for our penguin data analysis project. This approach offers several benefits:"
   ]
  },
  {
   "cell_type": "markdown",
   "metadata": {
    "slideshow": {
     "slide_type": "fragment"
    }
   },
   "source": [
    "- **Reproducibility**: Anyone can now run our analysis and get the same results.\n",
    "- **Collaboration**: Our well-organised project structure makes it easier for others to understand and contribute to our work.\n",
    "- **Maintainability**: Modular code and clear documentation make it easier to update or extend our analysis in the future.\n",
    "- **Portability**: Using `renv` ensures our code will work across different environments and over time."
   ]
  },
  {
   "cell_type": "markdown",
   "metadata": {
    "slideshow": {
     "slide_type": "subslide"
    }
   },
   "source": [
    "Remember, reproducible research is not just about following a set of rules, but about cultivating a mindset of transparency and rigour in your scientific work. Keep refining these practices and exploring new tools that can enhance the reproducibility of your work.\n",
    "\n",
    "By making your research reproducible, you're not only improving the quality and credibility of your own work, but also contributing to the broader scientific community by enabling others to build upon your findings more easily.\n"
   ]
  }
 ],
 "metadata": {
  "celltoolbar": "Slideshow",
  "kernelspec": {
   "display_name": "Python 3 (ipykernel)",
   "language": "python",
   "name": "python3"
  },
  "language_info": {
   "codemirror_mode": {
    "name": "ipython",
    "version": 3
   },
   "file_extension": ".py",
   "mimetype": "text/x-python",
   "name": "python",
   "nbconvert_exporter": "python",
   "pygments_lexer": "ipython3",
   "version": "3.12.7"
  }
 },
 "nbformat": 4,
 "nbformat_minor": 4
}
